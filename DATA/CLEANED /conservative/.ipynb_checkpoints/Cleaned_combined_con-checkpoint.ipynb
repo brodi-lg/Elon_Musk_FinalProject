{
 "cells": [
  {
   "cell_type": "code",
   "execution_count": 1,
   "id": "e98e1857-d6dc-475b-935f-febe67085fd5",
   "metadata": {},
   "outputs": [],
   "source": [
    "import pandas as pd"
   ]
  },
  {
   "cell_type": "code",
   "execution_count": 2,
   "id": "df8bc655-5e21-43c7-a42a-b50e144c14cd",
   "metadata": {},
   "outputs": [],
   "source": [
    "import matplotlib.pyplot as plt\n",
    "%matplotlib inline"
   ]
  },
  {
   "cell_type": "code",
   "execution_count": 3,
   "id": "7d157639-96eb-4bf8-b832-f6603a1da826",
   "metadata": {},
   "outputs": [],
   "source": [
    "import seaborn as sns"
   ]
  },
  {
   "cell_type": "code",
   "execution_count": 4,
   "id": "1663eba1-b14e-4049-86c9-64b9c6cb8d03",
   "metadata": {},
   "outputs": [],
   "source": [
    "import warnings\n",
    "warnings.filterwarnings('ignore')"
   ]
  },
  {
   "cell_type": "code",
   "execution_count": 5,
   "id": "cec986b2-12a4-4d4f-8e5e-2ff2774afb4e",
   "metadata": {},
   "outputs": [],
   "source": [
    "cleaned_con = pd.read_csv('combined_con_comments.csv')"
   ]
  },
  {
   "cell_type": "code",
   "execution_count": 6,
   "id": "9511d887-3482-48a0-9a83-927d12e3b6cb",
   "metadata": {},
   "outputs": [
    {
     "data": {
      "text/html": [
       "<div>\n",
       "<style scoped>\n",
       "    .dataframe tbody tr th:only-of-type {\n",
       "        vertical-align: middle;\n",
       "    }\n",
       "\n",
       "    .dataframe tbody tr th {\n",
       "        vertical-align: top;\n",
       "    }\n",
       "\n",
       "    .dataframe thead th {\n",
       "        text-align: right;\n",
       "    }\n",
       "</style>\n",
       "<table border=\"1\" class=\"dataframe\">\n",
       "  <thead>\n",
       "    <tr style=\"text-align: right;\">\n",
       "      <th></th>\n",
       "      <th>Video ID</th>\n",
       "      <th>User ID</th>\n",
       "      <th>Comment</th>\n",
       "    </tr>\n",
       "  </thead>\n",
       "  <tbody>\n",
       "    <tr>\n",
       "      <th>0</th>\n",
       "      <td>RZy5fRlT14c</td>\n",
       "      <td>UC3vXomPY9K1_uq4qQptnOPg</td>\n",
       "      <td>A jew sweeping a Nazi Salute is comedy gold</td>\n",
       "    </tr>\n",
       "    <tr>\n",
       "      <th>1</th>\n",
       "      <td>RZy5fRlT14c</td>\n",
       "      <td>UCd5UxmszI5LXSE8X_okFl_w</td>\n",
       "      <td>Pls tell me this is a joke, Elon is a nazi? Re...</td>\n",
       "    </tr>\n",
       "    <tr>\n",
       "      <th>2</th>\n",
       "      <td>RZy5fRlT14c</td>\n",
       "      <td>UCbX0BniSpYGNBMR-DkChrEA</td>\n",
       "      <td>I’m German and he would be arrested here for t...</td>\n",
       "    </tr>\n",
       "    <tr>\n",
       "      <th>3</th>\n",
       "      <td>RZy5fRlT14c</td>\n",
       "      <td>UCkmV2gim5eIXFjCv7f-95gg</td>\n",
       "      <td>Shapiro has lost it! Elon spoke at a AfD rally...</td>\n",
       "    </tr>\n",
       "    <tr>\n",
       "      <th>4</th>\n",
       "      <td>RZy5fRlT14c</td>\n",
       "      <td>UCk0iNjPERJSX7uQJeHbjHTg</td>\n",
       "      <td>🤣🤣What did your hero Bibi say again to congres...</td>\n",
       "    </tr>\n",
       "  </tbody>\n",
       "</table>\n",
       "</div>"
      ],
      "text/plain": [
       "      Video ID                   User ID  \\\n",
       "0  RZy5fRlT14c  UC3vXomPY9K1_uq4qQptnOPg   \n",
       "1  RZy5fRlT14c  UCd5UxmszI5LXSE8X_okFl_w   \n",
       "2  RZy5fRlT14c  UCbX0BniSpYGNBMR-DkChrEA   \n",
       "3  RZy5fRlT14c  UCkmV2gim5eIXFjCv7f-95gg   \n",
       "4  RZy5fRlT14c  UCk0iNjPERJSX7uQJeHbjHTg   \n",
       "\n",
       "                                             Comment  \n",
       "0        A jew sweeping a Nazi Salute is comedy gold  \n",
       "1  Pls tell me this is a joke, Elon is a nazi? Re...  \n",
       "2  I’m German and he would be arrested here for t...  \n",
       "3  Shapiro has lost it! Elon spoke at a AfD rally...  \n",
       "4  🤣🤣What did your hero Bibi say again to congres...  "
      ]
     },
     "execution_count": 6,
     "metadata": {},
     "output_type": "execute_result"
    }
   ],
   "source": [
    "cleaned_con.head()"
   ]
  },
  {
   "cell_type": "code",
   "execution_count": 7,
   "id": "c541d002-81a7-428a-9d10-183da296c939",
   "metadata": {},
   "outputs": [],
   "source": [
    "cleaned_con['Video ID'].replace('RZy5fRlT14c', 'Ben_Shapiro', inplace=True)\n",
    "cleaned_con['Video ID'].replace('72-qe4OjCj0', 'Dave_Rubin', inplace=True)\n",
    "cleaned_con['Video ID'].replace('aN684idlXxA','Candace_Owens', inplace=True)"
   ]
  },
  {
   "cell_type": "code",
   "execution_count": 8,
   "id": "cda10a8f-36aa-4fd6-a4c8-46518839f21e",
   "metadata": {},
   "outputs": [
    {
     "name": "stdout",
     "output_type": "stream",
     "text": [
      "<class 'pandas.core.frame.DataFrame'>\n",
      "RangeIndex: 11002 entries, 0 to 11001\n",
      "Data columns (total 3 columns):\n",
      " #   Column    Non-Null Count  Dtype \n",
      "---  ------    --------------  ----- \n",
      " 0   Video ID  11002 non-null  object\n",
      " 1   User ID   11002 non-null  object\n",
      " 2   Comment   11002 non-null  object\n",
      "dtypes: object(3)\n",
      "memory usage: 258.0+ KB\n"
     ]
    }
   ],
   "source": [
    "cleaned_con.info()"
   ]
  },
  {
   "cell_type": "code",
   "execution_count": 9,
   "id": "48578742-4da8-4b8c-ba6b-7e35e61a2b80",
   "metadata": {},
   "outputs": [],
   "source": [
    "#insight: the dataset combined has an entry of 11002 entries"
   ]
  },
  {
   "cell_type": "code",
   "execution_count": 10,
   "id": "72b4a779-318f-4210-9cdc-0e3f14e23e1d",
   "metadata": {},
   "outputs": [
    {
     "data": {
      "text/plain": [
       "Video ID    0\n",
       "User ID     0\n",
       "Comment     0\n",
       "dtype: int64"
      ]
     },
     "execution_count": 10,
     "metadata": {},
     "output_type": "execute_result"
    }
   ],
   "source": [
    "cleaned_con.isnull().sum()"
   ]
  },
  {
   "cell_type": "code",
   "execution_count": 11,
   "id": "528d954d-2018-4b69-8299-823dee9e8099",
   "metadata": {},
   "outputs": [
    {
     "data": {
      "text/plain": [
       "51"
      ]
     },
     "execution_count": 11,
     "metadata": {},
     "output_type": "execute_result"
    }
   ],
   "source": [
    "cleaned_con.duplicated().sum()"
   ]
  },
  {
   "cell_type": "code",
   "execution_count": 12,
   "id": "2881d084-f31a-4f57-83f3-7df8282a92ce",
   "metadata": {},
   "outputs": [],
   "source": [
    "#dropping duplicates while retaining the first instance\n",
    "cleaned_con = cleaned_con.drop_duplicates(subset=[\"Comment\", \"User ID\"], keep=\"first\")"
   ]
  },
  {
   "cell_type": "code",
   "execution_count": 13,
   "id": "945275de-4bd0-4a01-b821-b1d4f647db44",
   "metadata": {},
   "outputs": [
    {
     "data": {
      "text/plain": [
       "0"
      ]
     },
     "execution_count": 13,
     "metadata": {},
     "output_type": "execute_result"
    }
   ],
   "source": [
    "cleaned_con.duplicated().sum()"
   ]
  },
  {
   "cell_type": "code",
   "execution_count": 14,
   "id": "525ebb70-f979-4805-8079-b5d5cb94873d",
   "metadata": {},
   "outputs": [
    {
     "data": {
      "text/plain": [
       "(10950, 3)"
      ]
     },
     "execution_count": 14,
     "metadata": {},
     "output_type": "execute_result"
    }
   ],
   "source": [
    "#checking again \n",
    "cleaned_con.shape"
   ]
  },
  {
   "cell_type": "code",
   "execution_count": 15,
   "id": "1a928758-e2d5-4bb7-bd19-14c79d834383",
   "metadata": {},
   "outputs": [],
   "source": [
    "cleaned_con.columns = cleaned_con.columns.str.strip() "
   ]
  },
  {
   "cell_type": "code",
   "execution_count": 18,
   "id": "51bdffa0-28f8-4226-aac8-c3c1cef702c7",
   "metadata": {},
   "outputs": [],
   "source": [
    "cleaned_con.index = cleaned_con.index + 1"
   ]
  },
  {
   "cell_type": "code",
   "execution_count": 20,
   "id": "aae31508-4b96-4c7c-a3b7-15ee12ea120b",
   "metadata": {},
   "outputs": [
    {
     "data": {
      "text/html": [
       "<div>\n",
       "<style scoped>\n",
       "    .dataframe tbody tr th:only-of-type {\n",
       "        vertical-align: middle;\n",
       "    }\n",
       "\n",
       "    .dataframe tbody tr th {\n",
       "        vertical-align: top;\n",
       "    }\n",
       "\n",
       "    .dataframe thead th {\n",
       "        text-align: right;\n",
       "    }\n",
       "</style>\n",
       "<table border=\"1\" class=\"dataframe\">\n",
       "  <thead>\n",
       "    <tr style=\"text-align: right;\">\n",
       "      <th></th>\n",
       "      <th>Video ID</th>\n",
       "      <th>User ID</th>\n",
       "      <th>Comment</th>\n",
       "    </tr>\n",
       "  </thead>\n",
       "  <tbody>\n",
       "    <tr>\n",
       "      <th>1</th>\n",
       "      <td>Ben_Shapiro</td>\n",
       "      <td>UC3vXomPY9K1_uq4qQptnOPg</td>\n",
       "      <td>A jew sweeping a Nazi Salute is comedy gold</td>\n",
       "    </tr>\n",
       "    <tr>\n",
       "      <th>2</th>\n",
       "      <td>Ben_Shapiro</td>\n",
       "      <td>UCd5UxmszI5LXSE8X_okFl_w</td>\n",
       "      <td>Pls tell me this is a joke, Elon is a nazi? Re...</td>\n",
       "    </tr>\n",
       "    <tr>\n",
       "      <th>3</th>\n",
       "      <td>Ben_Shapiro</td>\n",
       "      <td>UCbX0BniSpYGNBMR-DkChrEA</td>\n",
       "      <td>I’m German and he would be arrested here for t...</td>\n",
       "    </tr>\n",
       "    <tr>\n",
       "      <th>4</th>\n",
       "      <td>Ben_Shapiro</td>\n",
       "      <td>UCkmV2gim5eIXFjCv7f-95gg</td>\n",
       "      <td>Shapiro has lost it! Elon spoke at a AfD rally...</td>\n",
       "    </tr>\n",
       "    <tr>\n",
       "      <th>5</th>\n",
       "      <td>Ben_Shapiro</td>\n",
       "      <td>UCk0iNjPERJSX7uQJeHbjHTg</td>\n",
       "      <td>🤣🤣What did your hero Bibi say again to congres...</td>\n",
       "    </tr>\n",
       "  </tbody>\n",
       "</table>\n",
       "</div>"
      ],
      "text/plain": [
       "      Video ID                   User ID  \\\n",
       "1  Ben_Shapiro  UC3vXomPY9K1_uq4qQptnOPg   \n",
       "2  Ben_Shapiro  UCd5UxmszI5LXSE8X_okFl_w   \n",
       "3  Ben_Shapiro  UCbX0BniSpYGNBMR-DkChrEA   \n",
       "4  Ben_Shapiro  UCkmV2gim5eIXFjCv7f-95gg   \n",
       "5  Ben_Shapiro  UCk0iNjPERJSX7uQJeHbjHTg   \n",
       "\n",
       "                                             Comment  \n",
       "1        A jew sweeping a Nazi Salute is comedy gold  \n",
       "2  Pls tell me this is a joke, Elon is a nazi? Re...  \n",
       "3  I’m German and he would be arrested here for t...  \n",
       "4  Shapiro has lost it! Elon spoke at a AfD rally...  \n",
       "5  🤣🤣What did your hero Bibi say again to congres...  "
      ]
     },
     "execution_count": 20,
     "metadata": {},
     "output_type": "execute_result"
    }
   ],
   "source": [
    "cleaned_con.head()"
   ]
  },
  {
   "cell_type": "code",
   "execution_count": null,
   "id": "95b7243f-0f2e-4dcf-9c38-c036b619a0b5",
   "metadata": {},
   "outputs": [],
   "source": []
  }
 ],
 "metadata": {
  "kernelspec": {
   "display_name": "Python 3 (ipykernel)",
   "language": "python",
   "name": "python3"
  },
  "language_info": {
   "codemirror_mode": {
    "name": "ipython",
    "version": 3
   },
   "file_extension": ".py",
   "mimetype": "text/x-python",
   "name": "python",
   "nbconvert_exporter": "python",
   "pygments_lexer": "ipython3",
   "version": "3.12.4"
  }
 },
 "nbformat": 4,
 "nbformat_minor": 5
}
