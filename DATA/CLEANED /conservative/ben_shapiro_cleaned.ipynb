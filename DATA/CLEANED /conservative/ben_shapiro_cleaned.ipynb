{
 "cells": [
  {
   "cell_type": "markdown",
   "id": "d9799507-0ad9-4e71-a0a3-92686b7ebbb3",
   "metadata": {},
   "source": [
    "<div style=\"background-color: lightblue; padding: 10px; border-radius: 5px;\">\n",
    "<p style=\"font-size: 24px;\">Loading Data</p>"
   ]
  },
  {
   "cell_type": "code",
   "execution_count": 1,
   "id": "f031fd6b-b028-4628-a739-02546ed57ea3",
   "metadata": {},
   "outputs": [],
   "source": [
    "import pandas as pd"
   ]
  },
  {
   "cell_type": "code",
   "execution_count": 2,
   "id": "b275c503-4ee9-4b59-a4e5-d2bb410137ac",
   "metadata": {},
   "outputs": [],
   "source": [
    "ben_shapiro_df= pd.read_csv('comments_benshapiro.csv')"
   ]
  },
  {
   "cell_type": "markdown",
   "id": "f06768a6-e213-4189-b610-f15792397256",
   "metadata": {},
   "source": [
    "<div style=\"background-color: lightblue; padding: 10px; border-radius: 5px;\">\n",
    "<p style=\"font-size: 24px;\">Exploring Data</p>"
   ]
  },
  {
   "cell_type": "code",
   "execution_count": 3,
   "id": "2106c37f-11f6-40b7-a20e-4f545a0acebb",
   "metadata": {},
   "outputs": [
    {
     "name": "stdout",
     "output_type": "stream",
     "text": [
      "<class 'pandas.core.frame.DataFrame'>\n",
      "RangeIndex: 2769 entries, 0 to 2768\n",
      "Data columns (total 3 columns):\n",
      " #   Column    Non-Null Count  Dtype \n",
      "---  ------    --------------  ----- \n",
      " 0   Video ID  2769 non-null   object\n",
      " 1   User ID   2769 non-null   object\n",
      " 2   Comment   2769 non-null   object\n",
      "dtypes: object(3)\n",
      "memory usage: 65.0+ KB\n"
     ]
    }
   ],
   "source": [
    "ben_shapiro_df.info()"
   ]
  },
  {
   "cell_type": "code",
   "execution_count": 4,
   "id": "468caa78-c6e5-4574-a1ab-7ee28dd55c06",
   "metadata": {},
   "outputs": [],
   "source": [
    "#insights: 2769 entries \n"
   ]
  },
  {
   "cell_type": "code",
   "execution_count": 5,
   "id": "9fb7329d-cefb-4d58-957b-995039d40393",
   "metadata": {},
   "outputs": [
    {
     "data": {
      "text/html": [
       "<div>\n",
       "<style scoped>\n",
       "    .dataframe tbody tr th:only-of-type {\n",
       "        vertical-align: middle;\n",
       "    }\n",
       "\n",
       "    .dataframe tbody tr th {\n",
       "        vertical-align: top;\n",
       "    }\n",
       "\n",
       "    .dataframe thead th {\n",
       "        text-align: right;\n",
       "    }\n",
       "</style>\n",
       "<table border=\"1\" class=\"dataframe\">\n",
       "  <thead>\n",
       "    <tr style=\"text-align: right;\">\n",
       "      <th></th>\n",
       "      <th>Video ID</th>\n",
       "      <th>User ID</th>\n",
       "      <th>Comment</th>\n",
       "    </tr>\n",
       "  </thead>\n",
       "  <tbody>\n",
       "    <tr>\n",
       "      <th>0</th>\n",
       "      <td>RZy5fRlT14c</td>\n",
       "      <td>UC3vXomPY9K1_uq4qQptnOPg</td>\n",
       "      <td>A jew sweeping a Nazi Salute is comedy gold</td>\n",
       "    </tr>\n",
       "    <tr>\n",
       "      <th>1</th>\n",
       "      <td>RZy5fRlT14c</td>\n",
       "      <td>UCd5UxmszI5LXSE8X_okFl_w</td>\n",
       "      <td>Pls tell me this is a joke, Elon is a nazi? Re...</td>\n",
       "    </tr>\n",
       "    <tr>\n",
       "      <th>2</th>\n",
       "      <td>RZy5fRlT14c</td>\n",
       "      <td>UCbX0BniSpYGNBMR-DkChrEA</td>\n",
       "      <td>I’m German and he would be arrested here for t...</td>\n",
       "    </tr>\n",
       "    <tr>\n",
       "      <th>3</th>\n",
       "      <td>RZy5fRlT14c</td>\n",
       "      <td>UCkmV2gim5eIXFjCv7f-95gg</td>\n",
       "      <td>Shapiro has lost it! Elon spoke at a AfD rally...</td>\n",
       "    </tr>\n",
       "    <tr>\n",
       "      <th>4</th>\n",
       "      <td>RZy5fRlT14c</td>\n",
       "      <td>UCk0iNjPERJSX7uQJeHbjHTg</td>\n",
       "      <td>🤣🤣What did your hero Bibi say again to congres...</td>\n",
       "    </tr>\n",
       "  </tbody>\n",
       "</table>\n",
       "</div>"
      ],
      "text/plain": [
       "      Video ID                   User ID  \\\n",
       "0  RZy5fRlT14c  UC3vXomPY9K1_uq4qQptnOPg   \n",
       "1  RZy5fRlT14c  UCd5UxmszI5LXSE8X_okFl_w   \n",
       "2  RZy5fRlT14c  UCbX0BniSpYGNBMR-DkChrEA   \n",
       "3  RZy5fRlT14c  UCkmV2gim5eIXFjCv7f-95gg   \n",
       "4  RZy5fRlT14c  UCk0iNjPERJSX7uQJeHbjHTg   \n",
       "\n",
       "                                             Comment  \n",
       "0        A jew sweeping a Nazi Salute is comedy gold  \n",
       "1  Pls tell me this is a joke, Elon is a nazi? Re...  \n",
       "2  I’m German and he would be arrested here for t...  \n",
       "3  Shapiro has lost it! Elon spoke at a AfD rally...  \n",
       "4  🤣🤣What did your hero Bibi say again to congres...  "
      ]
     },
     "execution_count": 5,
     "metadata": {},
     "output_type": "execute_result"
    }
   ],
   "source": [
    "ben_shapiro_df.head()"
   ]
  },
  {
   "cell_type": "markdown",
   "id": "c3219017-e26b-450c-918c-e21a0bee312e",
   "metadata": {},
   "source": [
    "<div style=\"background-color: lightblue; padding: 10px; border-radius: 5px;\">\n",
    "<p style=\"font-size: 24px;\">Cleaning Data</p>"
   ]
  },
  {
   "cell_type": "code",
   "execution_count": 6,
   "id": "3b8b5f5b-a067-4619-a31c-b30bc999e1ff",
   "metadata": {},
   "outputs": [
    {
     "data": {
      "text/plain": [
       "Video ID    0\n",
       "User ID     0\n",
       "Comment     0\n",
       "dtype: int64"
      ]
     },
     "execution_count": 6,
     "metadata": {},
     "output_type": "execute_result"
    }
   ],
   "source": [
    "ben_shapiro_df.isnull().sum()"
   ]
  },
  {
   "cell_type": "code",
   "execution_count": 7,
   "id": "d9e6561f-1f75-4274-b913-f02dfaa73ee9",
   "metadata": {},
   "outputs": [
    {
     "data": {
      "text/plain": [
       "9"
      ]
     },
     "execution_count": 7,
     "metadata": {},
     "output_type": "execute_result"
    }
   ],
   "source": [
    "ben_shapiro_df.duplicated().sum()"
   ]
  },
  {
   "cell_type": "code",
   "execution_count": 8,
   "id": "51b5cd1b-1372-4058-9e10-2b1a446e21c0",
   "metadata": {},
   "outputs": [],
   "source": [
    "ben_shapiro_df = ben_shapiro_df.drop_duplicates(subset=[\"Comment\", \"User ID\"], keep=\"first\")"
   ]
  },
  {
   "cell_type": "code",
   "execution_count": 9,
   "id": "1e637add-8532-4146-866c-ba3a11617c0d",
   "metadata": {},
   "outputs": [
    {
     "data": {
      "text/plain": [
       "0"
      ]
     },
     "execution_count": 9,
     "metadata": {},
     "output_type": "execute_result"
    }
   ],
   "source": [
    "ben_shapiro_df.duplicated().sum()"
   ]
  },
  {
   "cell_type": "code",
   "execution_count": 10,
   "id": "1a2f701a-7436-4398-b793-f1e3c40a7067",
   "metadata": {},
   "outputs": [
    {
     "data": {
      "text/plain": [
       "(2760, 3)"
      ]
     },
     "execution_count": 10,
     "metadata": {},
     "output_type": "execute_result"
    }
   ],
   "source": [
    "ben_shapiro_df.shape"
   ]
  },
  {
   "cell_type": "code",
   "execution_count": 11,
   "id": "5e668aa9-f478-43f1-93e1-803ec6115001",
   "metadata": {},
   "outputs": [],
   "source": [
    "ben_shapiro_df.columns = ben_shapiro_df.columns.str.strip() "
   ]
  },
  {
   "cell_type": "code",
   "execution_count": 12,
   "id": "4c4cc42c-e13d-4a68-b706-027fc7e69144",
   "metadata": {},
   "outputs": [],
   "source": [
    "#resetting index from 1 \n",
    "ben_shapiro_df.index =ben_shapiro_df.index + 1"
   ]
  },
  {
   "cell_type": "code",
   "execution_count": 13,
   "id": "b8d14f3b-e02e-4698-ab24-05eb1f1c0144",
   "metadata": {},
   "outputs": [
    {
     "data": {
      "text/html": [
       "<div>\n",
       "<style scoped>\n",
       "    .dataframe tbody tr th:only-of-type {\n",
       "        vertical-align: middle;\n",
       "    }\n",
       "\n",
       "    .dataframe tbody tr th {\n",
       "        vertical-align: top;\n",
       "    }\n",
       "\n",
       "    .dataframe thead th {\n",
       "        text-align: right;\n",
       "    }\n",
       "</style>\n",
       "<table border=\"1\" class=\"dataframe\">\n",
       "  <thead>\n",
       "    <tr style=\"text-align: right;\">\n",
       "      <th></th>\n",
       "      <th>Video ID</th>\n",
       "      <th>User ID</th>\n",
       "      <th>Comment</th>\n",
       "    </tr>\n",
       "  </thead>\n",
       "  <tbody>\n",
       "    <tr>\n",
       "      <th>1</th>\n",
       "      <td>RZy5fRlT14c</td>\n",
       "      <td>UC3vXomPY9K1_uq4qQptnOPg</td>\n",
       "      <td>A jew sweeping a Nazi Salute is comedy gold</td>\n",
       "    </tr>\n",
       "    <tr>\n",
       "      <th>2</th>\n",
       "      <td>RZy5fRlT14c</td>\n",
       "      <td>UCd5UxmszI5LXSE8X_okFl_w</td>\n",
       "      <td>Pls tell me this is a joke, Elon is a nazi? Re...</td>\n",
       "    </tr>\n",
       "    <tr>\n",
       "      <th>3</th>\n",
       "      <td>RZy5fRlT14c</td>\n",
       "      <td>UCbX0BniSpYGNBMR-DkChrEA</td>\n",
       "      <td>I’m German and he would be arrested here for t...</td>\n",
       "    </tr>\n",
       "    <tr>\n",
       "      <th>4</th>\n",
       "      <td>RZy5fRlT14c</td>\n",
       "      <td>UCkmV2gim5eIXFjCv7f-95gg</td>\n",
       "      <td>Shapiro has lost it! Elon spoke at a AfD rally...</td>\n",
       "    </tr>\n",
       "    <tr>\n",
       "      <th>5</th>\n",
       "      <td>RZy5fRlT14c</td>\n",
       "      <td>UCk0iNjPERJSX7uQJeHbjHTg</td>\n",
       "      <td>🤣🤣What did your hero Bibi say again to congres...</td>\n",
       "    </tr>\n",
       "  </tbody>\n",
       "</table>\n",
       "</div>"
      ],
      "text/plain": [
       "      Video ID                   User ID  \\\n",
       "1  RZy5fRlT14c  UC3vXomPY9K1_uq4qQptnOPg   \n",
       "2  RZy5fRlT14c  UCd5UxmszI5LXSE8X_okFl_w   \n",
       "3  RZy5fRlT14c  UCbX0BniSpYGNBMR-DkChrEA   \n",
       "4  RZy5fRlT14c  UCkmV2gim5eIXFjCv7f-95gg   \n",
       "5  RZy5fRlT14c  UCk0iNjPERJSX7uQJeHbjHTg   \n",
       "\n",
       "                                             Comment  \n",
       "1        A jew sweeping a Nazi Salute is comedy gold  \n",
       "2  Pls tell me this is a joke, Elon is a nazi? Re...  \n",
       "3  I’m German and he would be arrested here for t...  \n",
       "4  Shapiro has lost it! Elon spoke at a AfD rally...  \n",
       "5  🤣🤣What did your hero Bibi say again to congres...  "
      ]
     },
     "execution_count": 13,
     "metadata": {},
     "output_type": "execute_result"
    }
   ],
   "source": [
    "ben_shapiro_df.head()"
   ]
  },
  {
   "cell_type": "markdown",
   "id": "2455734c-5b40-46b6-bb93-444e1fdc48b1",
   "metadata": {},
   "source": [
    "<div style=\"background-color: lightblue; padding: 10px; border-radius: 5px;\">\n",
    "<p style=\"font-size: 24px;\">Saving Clean Data to CSV for Sentiment Analysis</p>"
   ]
  },
  {
   "cell_type": "code",
   "execution_count": 14,
   "id": "2f4304a9-64a6-4d11-8a62-e8210b065021",
   "metadata": {},
   "outputs": [],
   "source": [
    "ben_shapiro_df = ben_shapiro_df.to_csv(\"ben_shapiro.csv\") "
   ]
  }
 ],
 "metadata": {
  "kernelspec": {
   "display_name": "Python 3 (ipykernel)",
   "language": "python",
   "name": "python3"
  },
  "language_info": {
   "codemirror_mode": {
    "name": "ipython",
    "version": 3
   },
   "file_extension": ".py",
   "mimetype": "text/x-python",
   "name": "python",
   "nbconvert_exporter": "python",
   "pygments_lexer": "ipython3",
   "version": "3.12.4"
  }
 },
 "nbformat": 4,
 "nbformat_minor": 5
}
