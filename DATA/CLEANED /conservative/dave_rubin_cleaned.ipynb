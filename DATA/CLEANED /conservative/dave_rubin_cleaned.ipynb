{
 "cells": [
  {
   "cell_type": "code",
   "execution_count": 1,
   "id": "f031fd6b-b028-4628-a739-02546ed57ea3",
   "metadata": {},
   "outputs": [],
   "source": [
    "import pandas as pd"
   ]
  },
  {
   "cell_type": "code",
   "execution_count": 2,
   "id": "b275c503-4ee9-4b59-a4e5-d2bb410137ac",
   "metadata": {},
   "outputs": [],
   "source": [
    "dave_rubin_df= pd.read_csv('comments_daverubin.csv')"
   ]
  },
  {
   "cell_type": "markdown",
   "id": "fdc72b99-8d5c-450e-afab-fb2d7335a368",
   "metadata": {},
   "source": [
    "## Data exploration"
   ]
  },
  {
   "cell_type": "code",
   "execution_count": 4,
   "id": "2106c37f-11f6-40b7-a20e-4f545a0acebb",
   "metadata": {},
   "outputs": [
    {
     "name": "stdout",
     "output_type": "stream",
     "text": [
      "<class 'pandas.core.frame.DataFrame'>\n",
      "RangeIndex: 2349 entries, 0 to 2348\n",
      "Data columns (total 3 columns):\n",
      " #   Column    Non-Null Count  Dtype \n",
      "---  ------    --------------  ----- \n",
      " 0   Video ID  2349 non-null   object\n",
      " 1   User ID   2349 non-null   object\n",
      " 2   Comment   2349 non-null   object\n",
      "dtypes: object(3)\n",
      "memory usage: 55.2+ KB\n"
     ]
    }
   ],
   "source": [
    "dave_rubin_df.info()"
   ]
  },
  {
   "cell_type": "code",
   "execution_count": 5,
   "id": "468caa78-c6e5-4574-a1ab-7ee28dd55c06",
   "metadata": {},
   "outputs": [],
   "source": [
    "#insights: 2349 entries \n"
   ]
  },
  {
   "cell_type": "code",
   "execution_count": 6,
   "id": "9fb7329d-cefb-4d58-957b-995039d40393",
   "metadata": {},
   "outputs": [
    {
     "data": {
      "text/html": [
       "<div>\n",
       "<style scoped>\n",
       "    .dataframe tbody tr th:only-of-type {\n",
       "        vertical-align: middle;\n",
       "    }\n",
       "\n",
       "    .dataframe tbody tr th {\n",
       "        vertical-align: top;\n",
       "    }\n",
       "\n",
       "    .dataframe thead th {\n",
       "        text-align: right;\n",
       "    }\n",
       "</style>\n",
       "<table border=\"1\" class=\"dataframe\">\n",
       "  <thead>\n",
       "    <tr style=\"text-align: right;\">\n",
       "      <th></th>\n",
       "      <th>Video ID</th>\n",
       "      <th>User ID</th>\n",
       "      <th>Comment</th>\n",
       "    </tr>\n",
       "  </thead>\n",
       "  <tbody>\n",
       "    <tr>\n",
       "      <th>0</th>\n",
       "      <td>72-qe4OjCj0</td>\n",
       "      <td>UCNof21NSbSlN-SrlDCF6J9A</td>\n",
       "      <td>Hi Elon 🤭</td>\n",
       "    </tr>\n",
       "    <tr>\n",
       "      <th>1</th>\n",
       "      <td>72-qe4OjCj0</td>\n",
       "      <td>UCnai_-MoFipOwzEQ1J4nC0Q</td>\n",
       "      <td>The epitome of don&amp;#39;t believe your eyes. Be...</td>\n",
       "    </tr>\n",
       "    <tr>\n",
       "      <th>2</th>\n",
       "      <td>72-qe4OjCj0</td>\n",
       "      <td>UCwfGjmTIZsYAIVXZnREEO6w</td>\n",
       "      <td>Why even bother inviting cnn to their events🤦🏽</td>\n",
       "    </tr>\n",
       "    <tr>\n",
       "      <th>3</th>\n",
       "      <td>72-qe4OjCj0</td>\n",
       "      <td>UCOwh8PeJGkIeO0KwpbHDzmA</td>\n",
       "      <td>I will never watch  your video after you defen...</td>\n",
       "    </tr>\n",
       "    <tr>\n",
       "      <th>4</th>\n",
       "      <td>72-qe4OjCj0</td>\n",
       "      <td>UCjhXXGM4KpJofZBSYId_zLA</td>\n",
       "      <td>please go ahead and post your adress i have a ...</td>\n",
       "    </tr>\n",
       "  </tbody>\n",
       "</table>\n",
       "</div>"
      ],
      "text/plain": [
       "      Video ID                   User ID  \\\n",
       "0  72-qe4OjCj0  UCNof21NSbSlN-SrlDCF6J9A   \n",
       "1  72-qe4OjCj0  UCnai_-MoFipOwzEQ1J4nC0Q   \n",
       "2  72-qe4OjCj0  UCwfGjmTIZsYAIVXZnREEO6w   \n",
       "3  72-qe4OjCj0  UCOwh8PeJGkIeO0KwpbHDzmA   \n",
       "4  72-qe4OjCj0  UCjhXXGM4KpJofZBSYId_zLA   \n",
       "\n",
       "                                             Comment  \n",
       "0                                          Hi Elon 🤭  \n",
       "1  The epitome of don&#39;t believe your eyes. Be...  \n",
       "2     Why even bother inviting cnn to their events🤦🏽  \n",
       "3  I will never watch  your video after you defen...  \n",
       "4  please go ahead and post your adress i have a ...  "
      ]
     },
     "execution_count": 6,
     "metadata": {},
     "output_type": "execute_result"
    }
   ],
   "source": [
    "dave_rubin_df.head()"
   ]
  },
  {
   "cell_type": "markdown",
   "id": "6eac8716-c667-4f12-991e-5fba111f7a1a",
   "metadata": {},
   "source": [
    "## Data Cleaning"
   ]
  },
  {
   "cell_type": "code",
   "execution_count": 8,
   "id": "3b8b5f5b-a067-4619-a31c-b30bc999e1ff",
   "metadata": {},
   "outputs": [
    {
     "data": {
      "text/plain": [
       "Video ID    0\n",
       "User ID     0\n",
       "Comment     0\n",
       "dtype: int64"
      ]
     },
     "execution_count": 8,
     "metadata": {},
     "output_type": "execute_result"
    }
   ],
   "source": [
    "dave_rubin_df.isnull().sum()"
   ]
  },
  {
   "cell_type": "code",
   "execution_count": 9,
   "id": "d9e6561f-1f75-4274-b913-f02dfaa73ee9",
   "metadata": {},
   "outputs": [
    {
     "data": {
      "text/plain": [
       "4"
      ]
     },
     "execution_count": 9,
     "metadata": {},
     "output_type": "execute_result"
    }
   ],
   "source": [
    "dave_rubin_df.duplicated().sum()"
   ]
  },
  {
   "cell_type": "code",
   "execution_count": 10,
   "id": "51b5cd1b-1372-4058-9e10-2b1a446e21c0",
   "metadata": {},
   "outputs": [],
   "source": [
    "dave_rubin_df =dave_rubin_df.drop_duplicates(subset=[\"Comment\", \"User ID\"], keep=\"first\")"
   ]
  },
  {
   "cell_type": "code",
   "execution_count": 11,
   "id": "1e637add-8532-4146-866c-ba3a11617c0d",
   "metadata": {},
   "outputs": [
    {
     "data": {
      "text/plain": [
       "0"
      ]
     },
     "execution_count": 11,
     "metadata": {},
     "output_type": "execute_result"
    }
   ],
   "source": [
    "dave_rubin_df.duplicated().sum()"
   ]
  },
  {
   "cell_type": "code",
   "execution_count": 12,
   "id": "1a2f701a-7436-4398-b793-f1e3c40a7067",
   "metadata": {},
   "outputs": [
    {
     "data": {
      "text/plain": [
       "(2345, 3)"
      ]
     },
     "execution_count": 12,
     "metadata": {},
     "output_type": "execute_result"
    }
   ],
   "source": [
    "dave_rubin_df.shape"
   ]
  },
  {
   "cell_type": "code",
   "execution_count": 13,
   "id": "5e668aa9-f478-43f1-93e1-803ec6115001",
   "metadata": {},
   "outputs": [],
   "source": [
    "dave_rubin_df.columns = dave_rubin_df.columns.str.strip() "
   ]
  },
  {
   "cell_type": "code",
   "execution_count": 14,
   "id": "4c4cc42c-e13d-4a68-b706-027fc7e69144",
   "metadata": {},
   "outputs": [],
   "source": [
    "#resetting index from 1 \n",
    "dave_rubin_df.index =dave_rubin_df.index + 1"
   ]
  },
  {
   "cell_type": "code",
   "execution_count": 15,
   "id": "b8d14f3b-e02e-4698-ab24-05eb1f1c0144",
   "metadata": {},
   "outputs": [
    {
     "data": {
      "text/html": [
       "<div>\n",
       "<style scoped>\n",
       "    .dataframe tbody tr th:only-of-type {\n",
       "        vertical-align: middle;\n",
       "    }\n",
       "\n",
       "    .dataframe tbody tr th {\n",
       "        vertical-align: top;\n",
       "    }\n",
       "\n",
       "    .dataframe thead th {\n",
       "        text-align: right;\n",
       "    }\n",
       "</style>\n",
       "<table border=\"1\" class=\"dataframe\">\n",
       "  <thead>\n",
       "    <tr style=\"text-align: right;\">\n",
       "      <th></th>\n",
       "      <th>Video ID</th>\n",
       "      <th>User ID</th>\n",
       "      <th>Comment</th>\n",
       "    </tr>\n",
       "  </thead>\n",
       "  <tbody>\n",
       "    <tr>\n",
       "      <th>1</th>\n",
       "      <td>72-qe4OjCj0</td>\n",
       "      <td>UCNof21NSbSlN-SrlDCF6J9A</td>\n",
       "      <td>Hi Elon 🤭</td>\n",
       "    </tr>\n",
       "    <tr>\n",
       "      <th>2</th>\n",
       "      <td>72-qe4OjCj0</td>\n",
       "      <td>UCnai_-MoFipOwzEQ1J4nC0Q</td>\n",
       "      <td>The epitome of don&amp;#39;t believe your eyes. Be...</td>\n",
       "    </tr>\n",
       "    <tr>\n",
       "      <th>3</th>\n",
       "      <td>72-qe4OjCj0</td>\n",
       "      <td>UCwfGjmTIZsYAIVXZnREEO6w</td>\n",
       "      <td>Why even bother inviting cnn to their events🤦🏽</td>\n",
       "    </tr>\n",
       "    <tr>\n",
       "      <th>4</th>\n",
       "      <td>72-qe4OjCj0</td>\n",
       "      <td>UCOwh8PeJGkIeO0KwpbHDzmA</td>\n",
       "      <td>I will never watch  your video after you defen...</td>\n",
       "    </tr>\n",
       "    <tr>\n",
       "      <th>5</th>\n",
       "      <td>72-qe4OjCj0</td>\n",
       "      <td>UCjhXXGM4KpJofZBSYId_zLA</td>\n",
       "      <td>please go ahead and post your adress i have a ...</td>\n",
       "    </tr>\n",
       "  </tbody>\n",
       "</table>\n",
       "</div>"
      ],
      "text/plain": [
       "      Video ID                   User ID  \\\n",
       "1  72-qe4OjCj0  UCNof21NSbSlN-SrlDCF6J9A   \n",
       "2  72-qe4OjCj0  UCnai_-MoFipOwzEQ1J4nC0Q   \n",
       "3  72-qe4OjCj0  UCwfGjmTIZsYAIVXZnREEO6w   \n",
       "4  72-qe4OjCj0  UCOwh8PeJGkIeO0KwpbHDzmA   \n",
       "5  72-qe4OjCj0  UCjhXXGM4KpJofZBSYId_zLA   \n",
       "\n",
       "                                             Comment  \n",
       "1                                          Hi Elon 🤭  \n",
       "2  The epitome of don&#39;t believe your eyes. Be...  \n",
       "3     Why even bother inviting cnn to their events🤦🏽  \n",
       "4  I will never watch  your video after you defen...  \n",
       "5  please go ahead and post your adress i have a ...  "
      ]
     },
     "execution_count": 15,
     "metadata": {},
     "output_type": "execute_result"
    }
   ],
   "source": [
    "dave_rubin_df.head()"
   ]
  },
  {
   "cell_type": "markdown",
   "id": "dff070a5-8f57-422f-8f13-3ebb4fbb986c",
   "metadata": {},
   "source": [
    "## saving data to CSV for sentiment analysis exploration"
   ]
  },
  {
   "cell_type": "code",
   "execution_count": 17,
   "id": "19cc3b12-64e1-4f10-90bb-9d71b51a863d",
   "metadata": {},
   "outputs": [],
   "source": [
    "dave_rubin_df = dave_rubin_df.to_csv('dave_rubin.csv')"
   ]
  },
  {
   "cell_type": "code",
   "execution_count": null,
   "id": "d93ca81f-56dd-49f4-bed7-57150db35e3f",
   "metadata": {},
   "outputs": [],
   "source": []
  }
 ],
 "metadata": {
  "kernelspec": {
   "display_name": "Python 3 (ipykernel)",
   "language": "python",
   "name": "python3"
  },
  "language_info": {
   "codemirror_mode": {
    "name": "ipython",
    "version": 3
   },
   "file_extension": ".py",
   "mimetype": "text/x-python",
   "name": "python",
   "nbconvert_exporter": "python",
   "pygments_lexer": "ipython3",
   "version": "3.12.4"
  }
 },
 "nbformat": 4,
 "nbformat_minor": 5
}
