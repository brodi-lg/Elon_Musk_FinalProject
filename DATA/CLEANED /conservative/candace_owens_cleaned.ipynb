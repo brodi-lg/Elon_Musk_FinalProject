{
 "cells": [
  {
   "cell_type": "markdown",
   "id": "abe2a88a-5126-4974-869b-39dd53f83776",
   "metadata": {},
   "source": [
    "## Loading Data "
   ]
  },
  {
   "cell_type": "code",
   "execution_count": 2,
   "id": "f031fd6b-b028-4628-a739-02546ed57ea3",
   "metadata": {},
   "outputs": [],
   "source": [
    "import pandas as pd"
   ]
  },
  {
   "cell_type": "code",
   "execution_count": 3,
   "id": "b275c503-4ee9-4b59-a4e5-d2bb410137ac",
   "metadata": {},
   "outputs": [],
   "source": [
    "candace_owens_df= pd.read_csv('comments_candaceowens.csv')"
   ]
  },
  {
   "cell_type": "markdown",
   "id": "e30b7b6a-4ba2-4d16-b7c7-7ee834004029",
   "metadata": {},
   "source": [
    "## Data Exploration"
   ]
  },
  {
   "cell_type": "code",
   "execution_count": 5,
   "id": "2106c37f-11f6-40b7-a20e-4f545a0acebb",
   "metadata": {},
   "outputs": [
    {
     "name": "stdout",
     "output_type": "stream",
     "text": [
      "<class 'pandas.core.frame.DataFrame'>\n",
      "RangeIndex: 5884 entries, 0 to 5883\n",
      "Data columns (total 3 columns):\n",
      " #   Column    Non-Null Count  Dtype \n",
      "---  ------    --------------  ----- \n",
      " 0   Video ID  5884 non-null   object\n",
      " 1   User ID   5884 non-null   object\n",
      " 2   Comment   5884 non-null   object\n",
      "dtypes: object(3)\n",
      "memory usage: 138.0+ KB\n"
     ]
    }
   ],
   "source": [
    "candace_owens_df.info()"
   ]
  },
  {
   "cell_type": "code",
   "execution_count": 6,
   "id": "468caa78-c6e5-4574-a1ab-7ee28dd55c06",
   "metadata": {},
   "outputs": [],
   "source": [
    "#insights: 5884 entries \n"
   ]
  },
  {
   "cell_type": "code",
   "execution_count": 7,
   "id": "9fb7329d-cefb-4d58-957b-995039d40393",
   "metadata": {},
   "outputs": [
    {
     "data": {
      "text/html": [
       "<div>\n",
       "<style scoped>\n",
       "    .dataframe tbody tr th:only-of-type {\n",
       "        vertical-align: middle;\n",
       "    }\n",
       "\n",
       "    .dataframe tbody tr th {\n",
       "        vertical-align: top;\n",
       "    }\n",
       "\n",
       "    .dataframe thead th {\n",
       "        text-align: right;\n",
       "    }\n",
       "</style>\n",
       "<table border=\"1\" class=\"dataframe\">\n",
       "  <thead>\n",
       "    <tr style=\"text-align: right;\">\n",
       "      <th></th>\n",
       "      <th>Video ID</th>\n",
       "      <th>User ID</th>\n",
       "      <th>Comment</th>\n",
       "    </tr>\n",
       "  </thead>\n",
       "  <tbody>\n",
       "    <tr>\n",
       "      <th>0</th>\n",
       "      <td>aN684idlXxA</td>\n",
       "      <td>UC00qg8-sBC8yxty16olN6Cg</td>\n",
       "      <td>Elon&amp;#39;s gallow&amp;#39;s humor is impeccable.</td>\n",
       "    </tr>\n",
       "    <tr>\n",
       "      <th>1</th>\n",
       "      <td>aN684idlXxA</td>\n",
       "      <td>UCvo2d0huwyHnx9Nck7_TWZw</td>\n",
       "      <td>Sorry Candace. I call it how I see it. That wa...</td>\n",
       "    </tr>\n",
       "    <tr>\n",
       "      <th>2</th>\n",
       "      <td>aN684idlXxA</td>\n",
       "      <td>UCB0TalNoyRg3RVKzrZbe_yA</td>\n",
       "      <td>You can be conservative and vote for trump and...</td>\n",
       "    </tr>\n",
       "    <tr>\n",
       "      <th>3</th>\n",
       "      <td>aN684idlXxA</td>\n",
       "      <td>UCr6V7Z5fAh4QxBYAQu63R9A</td>\n",
       "      <td>Elon&amp;#39;s autism is his greatest superpower a...</td>\n",
       "    </tr>\n",
       "    <tr>\n",
       "      <th>4</th>\n",
       "      <td>aN684idlXxA</td>\n",
       "      <td>UCMPuAhTv8DjAqDN8EgrKFWg</td>\n",
       "      <td>So this explains why James Charles is in my Yo...</td>\n",
       "    </tr>\n",
       "  </tbody>\n",
       "</table>\n",
       "</div>"
      ],
      "text/plain": [
       "      Video ID                   User ID  \\\n",
       "0  aN684idlXxA  UC00qg8-sBC8yxty16olN6Cg   \n",
       "1  aN684idlXxA  UCvo2d0huwyHnx9Nck7_TWZw   \n",
       "2  aN684idlXxA  UCB0TalNoyRg3RVKzrZbe_yA   \n",
       "3  aN684idlXxA  UCr6V7Z5fAh4QxBYAQu63R9A   \n",
       "4  aN684idlXxA  UCMPuAhTv8DjAqDN8EgrKFWg   \n",
       "\n",
       "                                             Comment  \n",
       "0       Elon&#39;s gallow&#39;s humor is impeccable.  \n",
       "1  Sorry Candace. I call it how I see it. That wa...  \n",
       "2  You can be conservative and vote for trump and...  \n",
       "3  Elon&#39;s autism is his greatest superpower a...  \n",
       "4  So this explains why James Charles is in my Yo...  "
      ]
     },
     "execution_count": 7,
     "metadata": {},
     "output_type": "execute_result"
    }
   ],
   "source": [
    "candace_owens_df.head()"
   ]
  },
  {
   "cell_type": "markdown",
   "id": "a8e889ab-5f60-4d2d-ab36-30f71b1e9db5",
   "metadata": {},
   "source": [
    "## Data Cleaning "
   ]
  },
  {
   "cell_type": "code",
   "execution_count": 9,
   "id": "3b8b5f5b-a067-4619-a31c-b30bc999e1ff",
   "metadata": {},
   "outputs": [
    {
     "data": {
      "text/plain": [
       "Video ID    0\n",
       "User ID     0\n",
       "Comment     0\n",
       "dtype: int64"
      ]
     },
     "execution_count": 9,
     "metadata": {},
     "output_type": "execute_result"
    }
   ],
   "source": [
    "candace_owens_df.isnull().sum()"
   ]
  },
  {
   "cell_type": "code",
   "execution_count": 10,
   "id": "d9e6561f-1f75-4274-b913-f02dfaa73ee9",
   "metadata": {},
   "outputs": [
    {
     "data": {
      "text/plain": [
       "38"
      ]
     },
     "execution_count": 10,
     "metadata": {},
     "output_type": "execute_result"
    }
   ],
   "source": [
    "candace_owens_df.duplicated().sum()"
   ]
  },
  {
   "cell_type": "code",
   "execution_count": 11,
   "id": "51b5cd1b-1372-4058-9e10-2b1a446e21c0",
   "metadata": {},
   "outputs": [],
   "source": [
    "candace_owens_df =candace_owens_df.drop_duplicates(subset=[\"Comment\", \"User ID\"], keep=\"first\")"
   ]
  },
  {
   "cell_type": "code",
   "execution_count": 12,
   "id": "1e637add-8532-4146-866c-ba3a11617c0d",
   "metadata": {},
   "outputs": [
    {
     "data": {
      "text/plain": [
       "0"
      ]
     },
     "execution_count": 12,
     "metadata": {},
     "output_type": "execute_result"
    }
   ],
   "source": [
    "candace_owens_df.duplicated().sum()"
   ]
  },
  {
   "cell_type": "code",
   "execution_count": 13,
   "id": "1a2f701a-7436-4398-b793-f1e3c40a7067",
   "metadata": {},
   "outputs": [
    {
     "data": {
      "text/plain": [
       "(5846, 3)"
      ]
     },
     "execution_count": 13,
     "metadata": {},
     "output_type": "execute_result"
    }
   ],
   "source": [
    "candace_owens_df.shape"
   ]
  },
  {
   "cell_type": "code",
   "execution_count": 14,
   "id": "5e668aa9-f478-43f1-93e1-803ec6115001",
   "metadata": {},
   "outputs": [],
   "source": [
    "candace_owens_df.columns = candace_owens_df.columns.str.strip() "
   ]
  },
  {
   "cell_type": "code",
   "execution_count": 15,
   "id": "4c4cc42c-e13d-4a68-b706-027fc7e69144",
   "metadata": {},
   "outputs": [],
   "source": [
    "#resetting index from 1 \n",
    "candace_owens_df.index =candace_owens_df.index + 1"
   ]
  },
  {
   "cell_type": "code",
   "execution_count": 16,
   "id": "b8d14f3b-e02e-4698-ab24-05eb1f1c0144",
   "metadata": {},
   "outputs": [
    {
     "data": {
      "text/html": [
       "<div>\n",
       "<style scoped>\n",
       "    .dataframe tbody tr th:only-of-type {\n",
       "        vertical-align: middle;\n",
       "    }\n",
       "\n",
       "    .dataframe tbody tr th {\n",
       "        vertical-align: top;\n",
       "    }\n",
       "\n",
       "    .dataframe thead th {\n",
       "        text-align: right;\n",
       "    }\n",
       "</style>\n",
       "<table border=\"1\" class=\"dataframe\">\n",
       "  <thead>\n",
       "    <tr style=\"text-align: right;\">\n",
       "      <th></th>\n",
       "      <th>Video ID</th>\n",
       "      <th>User ID</th>\n",
       "      <th>Comment</th>\n",
       "    </tr>\n",
       "  </thead>\n",
       "  <tbody>\n",
       "    <tr>\n",
       "      <th>1</th>\n",
       "      <td>aN684idlXxA</td>\n",
       "      <td>UC00qg8-sBC8yxty16olN6Cg</td>\n",
       "      <td>Elon&amp;#39;s gallow&amp;#39;s humor is impeccable.</td>\n",
       "    </tr>\n",
       "    <tr>\n",
       "      <th>2</th>\n",
       "      <td>aN684idlXxA</td>\n",
       "      <td>UCvo2d0huwyHnx9Nck7_TWZw</td>\n",
       "      <td>Sorry Candace. I call it how I see it. That wa...</td>\n",
       "    </tr>\n",
       "    <tr>\n",
       "      <th>3</th>\n",
       "      <td>aN684idlXxA</td>\n",
       "      <td>UCB0TalNoyRg3RVKzrZbe_yA</td>\n",
       "      <td>You can be conservative and vote for trump and...</td>\n",
       "    </tr>\n",
       "    <tr>\n",
       "      <th>4</th>\n",
       "      <td>aN684idlXxA</td>\n",
       "      <td>UCr6V7Z5fAh4QxBYAQu63R9A</td>\n",
       "      <td>Elon&amp;#39;s autism is his greatest superpower a...</td>\n",
       "    </tr>\n",
       "    <tr>\n",
       "      <th>5</th>\n",
       "      <td>aN684idlXxA</td>\n",
       "      <td>UCMPuAhTv8DjAqDN8EgrKFWg</td>\n",
       "      <td>So this explains why James Charles is in my Yo...</td>\n",
       "    </tr>\n",
       "  </tbody>\n",
       "</table>\n",
       "</div>"
      ],
      "text/plain": [
       "      Video ID                   User ID  \\\n",
       "1  aN684idlXxA  UC00qg8-sBC8yxty16olN6Cg   \n",
       "2  aN684idlXxA  UCvo2d0huwyHnx9Nck7_TWZw   \n",
       "3  aN684idlXxA  UCB0TalNoyRg3RVKzrZbe_yA   \n",
       "4  aN684idlXxA  UCr6V7Z5fAh4QxBYAQu63R9A   \n",
       "5  aN684idlXxA  UCMPuAhTv8DjAqDN8EgrKFWg   \n",
       "\n",
       "                                             Comment  \n",
       "1       Elon&#39;s gallow&#39;s humor is impeccable.  \n",
       "2  Sorry Candace. I call it how I see it. That wa...  \n",
       "3  You can be conservative and vote for trump and...  \n",
       "4  Elon&#39;s autism is his greatest superpower a...  \n",
       "5  So this explains why James Charles is in my Yo...  "
      ]
     },
     "execution_count": 16,
     "metadata": {},
     "output_type": "execute_result"
    }
   ],
   "source": [
    "candace_owens_df.head()"
   ]
  },
  {
   "cell_type": "markdown",
   "id": "ea95f507-96f3-4dd5-86c9-6f5d4f212b7a",
   "metadata": {},
   "source": [
    "## Data Saved to CSV for sentiment analysis"
   ]
  },
  {
   "cell_type": "code",
   "execution_count": 18,
   "id": "a8ae88d4-fdbd-4081-97fd-d8e1229cf21f",
   "metadata": {},
   "outputs": [],
   "source": [
    "candace_owens_df.to_csv('candace_owens.csv')"
   ]
  },
  {
   "cell_type": "code",
   "execution_count": null,
   "id": "ff7b8218-81d4-4d3f-8440-f7e6e361e02a",
   "metadata": {},
   "outputs": [],
   "source": []
  }
 ],
 "metadata": {
  "kernelspec": {
   "display_name": "Python 3 (ipykernel)",
   "language": "python",
   "name": "python3"
  },
  "language_info": {
   "codemirror_mode": {
    "name": "ipython",
    "version": 3
   },
   "file_extension": ".py",
   "mimetype": "text/x-python",
   "name": "python",
   "nbconvert_exporter": "python",
   "pygments_lexer": "ipython3",
   "version": "3.12.4"
  }
 },
 "nbformat": 4,
 "nbformat_minor": 5
}
