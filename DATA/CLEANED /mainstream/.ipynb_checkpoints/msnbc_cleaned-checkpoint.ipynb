{
 "cells": [
  {
   "cell_type": "markdown",
   "id": "521245f8-cc43-41b2-a078-b2cbfdb9522f",
   "metadata": {},
   "source": [
    "<div style=\"background-color: lightblue; padding: 10px; border-radius: 5px;\">\n",
    "<p style=\"font-size: 24px;\">Loading Data.</p>\n"
   ]
  },
  {
   "cell_type": "code",
   "execution_count": 2,
   "id": "02fb0128-9fa1-479b-a515-62ba1828f697",
   "metadata": {},
   "outputs": [],
   "source": [
    "import pandas as pd"
   ]
  },
  {
   "cell_type": "code",
   "execution_count": 3,
   "id": "e8bde30f-0fde-4636-8985-eb1e8f9ec9ad",
   "metadata": {},
   "outputs": [],
   "source": [
    "msnbc_clean= pd.read_csv('comments_MSNBC.csv')"
   ]
  },
  {
   "cell_type": "markdown",
   "id": "1fb040ea-e78c-4932-b793-110f91a3db16",
   "metadata": {},
   "source": [
    "<div style=\"background-color: lightblue; padding: 10px; border-radius: 5px;\">\n",
    "<p style=\"font-size: 24px;\">Exploring Data</p>"
   ]
  },
  {
   "cell_type": "code",
   "execution_count": 8,
   "id": "12e52fe7-7496-499b-acb9-def162fa5f61",
   "metadata": {},
   "outputs": [
    {
     "name": "stdout",
     "output_type": "stream",
     "text": [
      "<class 'pandas.core.frame.DataFrame'>\n",
      "RangeIndex: 726 entries, 0 to 725\n",
      "Data columns (total 3 columns):\n",
      " #   Column    Non-Null Count  Dtype \n",
      "---  ------    --------------  ----- \n",
      " 0   Video ID  726 non-null    object\n",
      " 1   User ID   726 non-null    object\n",
      " 2   Comment   726 non-null    object\n",
      "dtypes: object(3)\n",
      "memory usage: 17.1+ KB\n"
     ]
    }
   ],
   "source": [
    "msnbc_clean.info()"
   ]
  },
  {
   "cell_type": "code",
   "execution_count": null,
   "id": "c35827e6-9c71-4b4a-a128-7d25f90ec472",
   "metadata": {},
   "outputs": [],
   "source": [
    "## insights - 726 entries"
   ]
  },
  {
   "cell_type": "code",
   "execution_count": 10,
   "id": "24824baa-6b4f-43e8-8a09-925c2637754c",
   "metadata": {},
   "outputs": [
    {
     "data": {
      "text/html": [
       "<div>\n",
       "<style scoped>\n",
       "    .dataframe tbody tr th:only-of-type {\n",
       "        vertical-align: middle;\n",
       "    }\n",
       "\n",
       "    .dataframe tbody tr th {\n",
       "        vertical-align: top;\n",
       "    }\n",
       "\n",
       "    .dataframe thead th {\n",
       "        text-align: right;\n",
       "    }\n",
       "</style>\n",
       "<table border=\"1\" class=\"dataframe\">\n",
       "  <thead>\n",
       "    <tr style=\"text-align: right;\">\n",
       "      <th></th>\n",
       "      <th>Video ID</th>\n",
       "      <th>User ID</th>\n",
       "      <th>Comment</th>\n",
       "    </tr>\n",
       "  </thead>\n",
       "  <tbody>\n",
       "    <tr>\n",
       "      <th>0</th>\n",
       "      <td>_J-uvMGfpTA</td>\n",
       "      <td>UC4mZXptTrROu4nEgK6QpNiQ</td>\n",
       "      <td>The j6 riot was about stopping a crime; not co...</td>\n",
       "    </tr>\n",
       "    <tr>\n",
       "      <th>1</th>\n",
       "      <td>_J-uvMGfpTA</td>\n",
       "      <td>UCmxX9bAr8BdoRI5xcPiKfAQ</td>\n",
       "      <td>MAGA believes the Coup members were FBI dresse...</td>\n",
       "    </tr>\n",
       "    <tr>\n",
       "      <th>2</th>\n",
       "      <td>_J-uvMGfpTA</td>\n",
       "      <td>UCtpCViOOCrfMJJgqQbHYGZQ</td>\n",
       "      <td>this election really mattered.  sometimes i ta...</td>\n",
       "    </tr>\n",
       "    <tr>\n",
       "      <th>3</th>\n",
       "      <td>_J-uvMGfpTA</td>\n",
       "      <td>UCjQVrMwtYGDR2tg45ay7JcQ</td>\n",
       "      <td>This station is sick</td>\n",
       "    </tr>\n",
       "    <tr>\n",
       "      <th>4</th>\n",
       "      <td>_J-uvMGfpTA</td>\n",
       "      <td>UCVlAv7xWWUhNAe7BQAPJ-pQ</td>\n",
       "      <td>evry1 knows its the 3rd reich restarting</td>\n",
       "    </tr>\n",
       "  </tbody>\n",
       "</table>\n",
       "</div>"
      ],
      "text/plain": [
       "      Video ID                   User ID  \\\n",
       "0  _J-uvMGfpTA  UC4mZXptTrROu4nEgK6QpNiQ   \n",
       "1  _J-uvMGfpTA  UCmxX9bAr8BdoRI5xcPiKfAQ   \n",
       "2  _J-uvMGfpTA  UCtpCViOOCrfMJJgqQbHYGZQ   \n",
       "3  _J-uvMGfpTA  UCjQVrMwtYGDR2tg45ay7JcQ   \n",
       "4  _J-uvMGfpTA  UCVlAv7xWWUhNAe7BQAPJ-pQ   \n",
       "\n",
       "                                             Comment  \n",
       "0  The j6 riot was about stopping a crime; not co...  \n",
       "1  MAGA believes the Coup members were FBI dresse...  \n",
       "2  this election really mattered.  sometimes i ta...  \n",
       "3                               This station is sick  \n",
       "4           evry1 knows its the 3rd reich restarting  "
      ]
     },
     "execution_count": 10,
     "metadata": {},
     "output_type": "execute_result"
    }
   ],
   "source": [
    "msnbc_clean.head()"
   ]
  },
  {
   "cell_type": "markdown",
   "id": "606cd380-b8d6-4ce0-8424-28d939987caf",
   "metadata": {},
   "source": [
    "<div style=\"background-color: lightblue; padding: 10px; border-radius: 5px;\">\n",
    "<p style=\"font-size: 24px;\">Cleaning Data</p>"
   ]
  },
  {
   "cell_type": "code",
   "execution_count": 25,
   "id": "cfba4df9-534b-494f-a538-8753d7d0555a",
   "metadata": {},
   "outputs": [
    {
     "data": {
      "text/plain": [
       "Video ID    0\n",
       "User ID     0\n",
       "Comment     0\n",
       "dtype: int64"
      ]
     },
     "execution_count": 25,
     "metadata": {},
     "output_type": "execute_result"
    }
   ],
   "source": [
    "msnbc_clean.isnull().sum()"
   ]
  },
  {
   "cell_type": "code",
   "execution_count": 29,
   "id": "9c32dc17-aebf-4b28-9b18-a900efcc32fb",
   "metadata": {},
   "outputs": [
    {
     "data": {
      "text/plain": [
       "2"
      ]
     },
     "execution_count": 29,
     "metadata": {},
     "output_type": "execute_result"
    }
   ],
   "source": [
    "msnbc_clean.duplicated().sum()"
   ]
  },
  {
   "cell_type": "code",
   "execution_count": 31,
   "id": "84e81c66-6acc-4ded-980b-c9971fbbbb5c",
   "metadata": {},
   "outputs": [],
   "source": [
    "msnbc_clean = msnbc_clean.drop_duplicates(subset=[\"Comment\", \"User ID\"], keep=\"first\")"
   ]
  },
  {
   "cell_type": "code",
   "execution_count": 35,
   "id": "b3289371-7a0b-4cfd-963d-5022c3d8768b",
   "metadata": {},
   "outputs": [],
   "source": [
    "#resetting index from 1\n",
    "msnbc_clean.index= msnbc_clean.index +1 "
   ]
  },
  {
   "cell_type": "code",
   "execution_count": 39,
   "id": "b417ee0f-af64-44d3-bc46-6e9ac4daacaf",
   "metadata": {},
   "outputs": [],
   "source": [
    "msnbc_clean['Video ID'] = msnbc_clean['Video ID'].replace('_J-uvMGfpTA', 'msnbc')"
   ]
  },
  {
   "cell_type": "code",
   "execution_count": 43,
   "id": "d2aff906-9ad1-4f02-8038-a90668c1b10b",
   "metadata": {},
   "outputs": [
    {
     "data": {
      "text/html": [
       "<div>\n",
       "<style scoped>\n",
       "    .dataframe tbody tr th:only-of-type {\n",
       "        vertical-align: middle;\n",
       "    }\n",
       "\n",
       "    .dataframe tbody tr th {\n",
       "        vertical-align: top;\n",
       "    }\n",
       "\n",
       "    .dataframe thead th {\n",
       "        text-align: right;\n",
       "    }\n",
       "</style>\n",
       "<table border=\"1\" class=\"dataframe\">\n",
       "  <thead>\n",
       "    <tr style=\"text-align: right;\">\n",
       "      <th></th>\n",
       "      <th>Video ID</th>\n",
       "      <th>User ID</th>\n",
       "      <th>Comment</th>\n",
       "    </tr>\n",
       "  </thead>\n",
       "  <tbody>\n",
       "    <tr>\n",
       "      <th>40</th>\n",
       "      <td>msnbc</td>\n",
       "      <td>UCpZ8izNhCedDwhuw3IJC_Tg</td>\n",
       "      <td>Only racists see racism in EVERYTHING!</td>\n",
       "    </tr>\n",
       "    <tr>\n",
       "      <th>514</th>\n",
       "      <td>msnbc</td>\n",
       "      <td>UCnpZpcxdWS0UutJEnW1i6_A</td>\n",
       "      <td>So nobody is going to talk about how ADL is de...</td>\n",
       "    </tr>\n",
       "  </tbody>\n",
       "</table>\n",
       "</div>"
      ],
      "text/plain": [
       "    Video ID                   User ID  \\\n",
       "40     msnbc  UCpZ8izNhCedDwhuw3IJC_Tg   \n",
       "514    msnbc  UCnpZpcxdWS0UutJEnW1i6_A   \n",
       "\n",
       "                                               Comment  \n",
       "40              Only racists see racism in EVERYTHING!  \n",
       "514  So nobody is going to talk about how ADL is de...  "
      ]
     },
     "execution_count": 43,
     "metadata": {},
     "output_type": "execute_result"
    }
   ],
   "source": [
    "msnbc_clean.sample(2)"
   ]
  },
  {
   "cell_type": "markdown",
   "id": "2deaf77e-9043-484d-82d5-45fe404c7619",
   "metadata": {},
   "source": [
    "<div style=\"background-color: lightblue; padding: 10px; border-radius: 5px;\">\n",
    "<p style=\"font-size: 24px;\">Saving Clean Data to CSV for Sentiment Analysis</p>"
   ]
  },
  {
   "cell_type": "code",
   "execution_count": 48,
   "id": "fdc9ca22-9d2c-4578-8d3e-2b3ed1aca238",
   "metadata": {},
   "outputs": [],
   "source": [
    "msnbc_clean = msnbc_clean.to_csv('msnbc.csv')"
   ]
  },
  {
   "cell_type": "code",
   "execution_count": null,
   "id": "83d2aca9-4d68-443a-b9a5-0bff4999a87c",
   "metadata": {},
   "outputs": [],
   "source": []
  }
 ],
 "metadata": {
  "kernelspec": {
   "display_name": "Python 3 (ipykernel)",
   "language": "python",
   "name": "python3"
  },
  "language_info": {
   "codemirror_mode": {
    "name": "ipython",
    "version": 3
   },
   "file_extension": ".py",
   "mimetype": "text/x-python",
   "name": "python",
   "nbconvert_exporter": "python",
   "pygments_lexer": "ipython3",
   "version": "3.12.4"
  }
 },
 "nbformat": 4,
 "nbformat_minor": 5
}
