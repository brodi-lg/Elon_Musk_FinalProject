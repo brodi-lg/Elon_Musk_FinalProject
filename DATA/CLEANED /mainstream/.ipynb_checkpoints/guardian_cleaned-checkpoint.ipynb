{
 "cells": [
  {
   "cell_type": "markdown",
   "id": "521245f8-cc43-41b2-a078-b2cbfdb9522f",
   "metadata": {},
   "source": [
    "<div style=\"background-color: lightblue; padding: 10px; border-radius: 5px;\">\n",
    "<p style=\"font-size: 24px;\">Loading Data.</p>\n"
   ]
  },
  {
   "cell_type": "code",
   "execution_count": 2,
   "id": "02fb0128-9fa1-479b-a515-62ba1828f697",
   "metadata": {},
   "outputs": [],
   "source": [
    "import pandas as pd"
   ]
  },
  {
   "cell_type": "code",
   "execution_count": 3,
   "id": "e8bde30f-0fde-4636-8985-eb1e8f9ec9ad",
   "metadata": {},
   "outputs": [],
   "source": [
    "guardian_clean= pd.read_csv('comments_guardian.csv')"
   ]
  },
  {
   "cell_type": "markdown",
   "id": "1fb040ea-e78c-4932-b793-110f91a3db16",
   "metadata": {},
   "source": [
    "<div style=\"background-color: lightblue; padding: 10px; border-radius: 5px;\">\n",
    "<p style=\"font-size: 24px;\">Exploring Data</p>"
   ]
  },
  {
   "cell_type": "code",
   "execution_count": 5,
   "id": "12e52fe7-7496-499b-acb9-def162fa5f61",
   "metadata": {},
   "outputs": [
    {
     "name": "stdout",
     "output_type": "stream",
     "text": [
      "<class 'pandas.core.frame.DataFrame'>\n",
      "RangeIndex: 586 entries, 0 to 585\n",
      "Data columns (total 3 columns):\n",
      " #   Column    Non-Null Count  Dtype \n",
      "---  ------    --------------  ----- \n",
      " 0   Video ID  586 non-null    object\n",
      " 1   User ID   586 non-null    object\n",
      " 2   Comment   586 non-null    object\n",
      "dtypes: object(3)\n",
      "memory usage: 13.9+ KB\n"
     ]
    }
   ],
   "source": [
    "guardian_clean.info()"
   ]
  },
  {
   "cell_type": "code",
   "execution_count": 6,
   "id": "c35827e6-9c71-4b4a-a128-7d25f90ec472",
   "metadata": {},
   "outputs": [],
   "source": [
    "## insights - 586entries"
   ]
  },
  {
   "cell_type": "code",
   "execution_count": 7,
   "id": "24824baa-6b4f-43e8-8a09-925c2637754c",
   "metadata": {},
   "outputs": [
    {
     "data": {
      "text/html": [
       "<div>\n",
       "<style scoped>\n",
       "    .dataframe tbody tr th:only-of-type {\n",
       "        vertical-align: middle;\n",
       "    }\n",
       "\n",
       "    .dataframe tbody tr th {\n",
       "        vertical-align: top;\n",
       "    }\n",
       "\n",
       "    .dataframe thead th {\n",
       "        text-align: right;\n",
       "    }\n",
       "</style>\n",
       "<table border=\"1\" class=\"dataframe\">\n",
       "  <thead>\n",
       "    <tr style=\"text-align: right;\">\n",
       "      <th></th>\n",
       "      <th>Video ID</th>\n",
       "      <th>User ID</th>\n",
       "      <th>Comment</th>\n",
       "    </tr>\n",
       "  </thead>\n",
       "  <tbody>\n",
       "    <tr>\n",
       "      <th>0</th>\n",
       "      <td>smQNNo2a9xc</td>\n",
       "      <td>UCRhkbGiqgv5zCMRxEgqMuLg</td>\n",
       "      <td>How dare he insult me!?</td>\n",
       "    </tr>\n",
       "    <tr>\n",
       "      <th>1</th>\n",
       "      <td>smQNNo2a9xc</td>\n",
       "      <td>UCPku8QF3YL-QkfiM4dY-RQw</td>\n",
       "      <td>i think the guy is just legitimately autistic ...</td>\n",
       "    </tr>\n",
       "    <tr>\n",
       "      <th>2</th>\n",
       "      <td>smQNNo2a9xc</td>\n",
       "      <td>UClwrjjaPljMvGMBVAsmfJuw</td>\n",
       "      <td>I see nothing wrong</td>\n",
       "    </tr>\n",
       "    <tr>\n",
       "      <th>3</th>\n",
       "      <td>smQNNo2a9xc</td>\n",
       "      <td>UCbf_i1Wm64npQDvMOlWffDw</td>\n",
       "      <td>The reglme this is it.</td>\n",
       "    </tr>\n",
       "    <tr>\n",
       "      <th>4</th>\n",
       "      <td>smQNNo2a9xc</td>\n",
       "      <td>UCOHEMOYwtycqRGD4KsiMLgA</td>\n",
       "      <td>People acting like they would rather Kamala Ha...</td>\n",
       "    </tr>\n",
       "  </tbody>\n",
       "</table>\n",
       "</div>"
      ],
      "text/plain": [
       "      Video ID                   User ID  \\\n",
       "0  smQNNo2a9xc  UCRhkbGiqgv5zCMRxEgqMuLg   \n",
       "1  smQNNo2a9xc  UCPku8QF3YL-QkfiM4dY-RQw   \n",
       "2  smQNNo2a9xc  UClwrjjaPljMvGMBVAsmfJuw   \n",
       "3  smQNNo2a9xc  UCbf_i1Wm64npQDvMOlWffDw   \n",
       "4  smQNNo2a9xc  UCOHEMOYwtycqRGD4KsiMLgA   \n",
       "\n",
       "                                             Comment  \n",
       "0                            How dare he insult me!?  \n",
       "1  i think the guy is just legitimately autistic ...  \n",
       "2                                I see nothing wrong  \n",
       "3                             The reglme this is it.  \n",
       "4  People acting like they would rather Kamala Ha...  "
      ]
     },
     "execution_count": 7,
     "metadata": {},
     "output_type": "execute_result"
    }
   ],
   "source": [
    "guardian_clean.head()"
   ]
  },
  {
   "cell_type": "markdown",
   "id": "606cd380-b8d6-4ce0-8424-28d939987caf",
   "metadata": {},
   "source": [
    "<div style=\"background-color: lightblue; padding: 10px; border-radius: 5px;\">\n",
    "<p style=\"font-size: 24px;\">Cleaning Data</p>"
   ]
  },
  {
   "cell_type": "code",
   "execution_count": 9,
   "id": "cfba4df9-534b-494f-a538-8753d7d0555a",
   "metadata": {},
   "outputs": [
    {
     "data": {
      "text/plain": [
       "Video ID    0\n",
       "User ID     0\n",
       "Comment     0\n",
       "dtype: int64"
      ]
     },
     "execution_count": 9,
     "metadata": {},
     "output_type": "execute_result"
    }
   ],
   "source": [
    "guardian_clean.isnull().sum()"
   ]
  },
  {
   "cell_type": "code",
   "execution_count": 10,
   "id": "9c32dc17-aebf-4b28-9b18-a900efcc32fb",
   "metadata": {},
   "outputs": [
    {
     "data": {
      "text/plain": [
       "1"
      ]
     },
     "execution_count": 10,
     "metadata": {},
     "output_type": "execute_result"
    }
   ],
   "source": [
    "guardian_clean.duplicated().sum()"
   ]
  },
  {
   "cell_type": "code",
   "execution_count": 11,
   "id": "84e81c66-6acc-4ded-980b-c9971fbbbb5c",
   "metadata": {},
   "outputs": [],
   "source": [
    "guardian_clean = guardian_clean.drop_duplicates(subset=[\"Comment\", \"User ID\"], keep=\"first\")"
   ]
  },
  {
   "cell_type": "code",
   "execution_count": 12,
   "id": "b3289371-7a0b-4cfd-963d-5022c3d8768b",
   "metadata": {},
   "outputs": [],
   "source": [
    "#resetting index from 1\n",
    "guardian_clean.index= guardian_clean.index +1 "
   ]
  },
  {
   "cell_type": "code",
   "execution_count": 13,
   "id": "b417ee0f-af64-44d3-bc46-6e9ac4daacaf",
   "metadata": {},
   "outputs": [],
   "source": [
    "guardian_clean['Video ID'] = guardian_clean['Video ID'].replace('smQNNo2a9xc', 'guardian')"
   ]
  },
  {
   "cell_type": "code",
   "execution_count": 14,
   "id": "d2aff906-9ad1-4f02-8038-a90668c1b10b",
   "metadata": {},
   "outputs": [
    {
     "data": {
      "text/html": [
       "<div>\n",
       "<style scoped>\n",
       "    .dataframe tbody tr th:only-of-type {\n",
       "        vertical-align: middle;\n",
       "    }\n",
       "\n",
       "    .dataframe tbody tr th {\n",
       "        vertical-align: top;\n",
       "    }\n",
       "\n",
       "    .dataframe thead th {\n",
       "        text-align: right;\n",
       "    }\n",
       "</style>\n",
       "<table border=\"1\" class=\"dataframe\">\n",
       "  <thead>\n",
       "    <tr style=\"text-align: right;\">\n",
       "      <th></th>\n",
       "      <th>Video ID</th>\n",
       "      <th>User ID</th>\n",
       "      <th>Comment</th>\n",
       "    </tr>\n",
       "  </thead>\n",
       "  <tbody>\n",
       "    <tr>\n",
       "      <th>382</th>\n",
       "      <td>guardian</td>\n",
       "      <td>UCa1R6NjEoX_wnTkia96G64A</td>\n",
       "      <td>I salute this Man...👋</td>\n",
       "    </tr>\n",
       "    <tr>\n",
       "      <th>509</th>\n",
       "      <td>guardian</td>\n",
       "      <td>UCAGwqg2tTKMQ9UFNrQCEC2g</td>\n",
       "      <td>So a side ways Usain bolt gesture is now facis...</td>\n",
       "    </tr>\n",
       "  </tbody>\n",
       "</table>\n",
       "</div>"
      ],
      "text/plain": [
       "     Video ID                   User ID  \\\n",
       "382  guardian  UCa1R6NjEoX_wnTkia96G64A   \n",
       "509  guardian  UCAGwqg2tTKMQ9UFNrQCEC2g   \n",
       "\n",
       "                                               Comment  \n",
       "382                              I salute this Man...👋  \n",
       "509  So a side ways Usain bolt gesture is now facis...  "
      ]
     },
     "execution_count": 14,
     "metadata": {},
     "output_type": "execute_result"
    }
   ],
   "source": [
    "guardian_clean.sample(2)"
   ]
  },
  {
   "cell_type": "markdown",
   "id": "2deaf77e-9043-484d-82d5-45fe404c7619",
   "metadata": {},
   "source": [
    "<div style=\"background-color: lightblue; padding: 10px; border-radius: 5px;\">\n",
    "<p style=\"font-size: 24px;\">Saving Clean Data to CSV for Sentiment Analysis</p>"
   ]
  },
  {
   "cell_type": "code",
   "execution_count": 27,
   "id": "fdc9ca22-9d2c-4578-8d3e-2b3ed1aca238",
   "metadata": {},
   "outputs": [],
   "source": [
    "guardian_clean = guardian_clean.to_csv('guardian.csv')"
   ]
  },
  {
   "cell_type": "code",
   "execution_count": null,
   "id": "83d2aca9-4d68-443a-b9a5-0bff4999a87c",
   "metadata": {},
   "outputs": [],
   "source": []
  }
 ],
 "metadata": {
  "kernelspec": {
   "display_name": "Python 3 (ipykernel)",
   "language": "python",
   "name": "python3"
  },
  "language_info": {
   "codemirror_mode": {
    "name": "ipython",
    "version": 3
   },
   "file_extension": ".py",
   "mimetype": "text/x-python",
   "name": "python",
   "nbconvert_exporter": "python",
   "pygments_lexer": "ipython3",
   "version": "3.12.4"
  }
 },
 "nbformat": 4,
 "nbformat_minor": 5
}
