{
 "cells": [
  {
   "cell_type": "markdown",
   "id": "521245f8-cc43-41b2-a078-b2cbfdb9522f",
   "metadata": {},
   "source": [
    "<div style=\"background-color: lightblue; padding: 10px; border-radius: 5px;\">\n",
    "<p style=\"font-size: 24px;\">Loading Data.</p>\n"
   ]
  },
  {
   "cell_type": "code",
   "execution_count": 2,
   "id": "02fb0128-9fa1-479b-a515-62ba1828f697",
   "metadata": {},
   "outputs": [],
   "source": [
    "import pandas as pd"
   ]
  },
  {
   "cell_type": "code",
   "execution_count": 3,
   "id": "e8bde30f-0fde-4636-8985-eb1e8f9ec9ad",
   "metadata": {},
   "outputs": [],
   "source": [
    "DW_clean= pd.read_csv('comments_DW.csv')"
   ]
  },
  {
   "cell_type": "markdown",
   "id": "1fb040ea-e78c-4932-b793-110f91a3db16",
   "metadata": {},
   "source": [
    "<div style=\"background-color: lightblue; padding: 10px; border-radius: 5px;\">\n",
    "<p style=\"font-size: 24px;\">Exploring Data</p>"
   ]
  },
  {
   "cell_type": "code",
   "execution_count": 5,
   "id": "12e52fe7-7496-499b-acb9-def162fa5f61",
   "metadata": {},
   "outputs": [
    {
     "name": "stdout",
     "output_type": "stream",
     "text": [
      "<class 'pandas.core.frame.DataFrame'>\n",
      "RangeIndex: 3175 entries, 0 to 3174\n",
      "Data columns (total 3 columns):\n",
      " #   Column    Non-Null Count  Dtype \n",
      "---  ------    --------------  ----- \n",
      " 0   Video ID  3175 non-null   object\n",
      " 1   User ID   3175 non-null   object\n",
      " 2   Comment   3175 non-null   object\n",
      "dtypes: object(3)\n",
      "memory usage: 74.5+ KB\n"
     ]
    }
   ],
   "source": [
    "DW_clean.info()"
   ]
  },
  {
   "cell_type": "code",
   "execution_count": 6,
   "id": "c35827e6-9c71-4b4a-a128-7d25f90ec472",
   "metadata": {},
   "outputs": [],
   "source": [
    "## insights - 3175 entries"
   ]
  },
  {
   "cell_type": "code",
   "execution_count": 7,
   "id": "24824baa-6b4f-43e8-8a09-925c2637754c",
   "metadata": {},
   "outputs": [
    {
     "data": {
      "text/html": [
       "<div>\n",
       "<style scoped>\n",
       "    .dataframe tbody tr th:only-of-type {\n",
       "        vertical-align: middle;\n",
       "    }\n",
       "\n",
       "    .dataframe tbody tr th {\n",
       "        vertical-align: top;\n",
       "    }\n",
       "\n",
       "    .dataframe thead th {\n",
       "        text-align: right;\n",
       "    }\n",
       "</style>\n",
       "<table border=\"1\" class=\"dataframe\">\n",
       "  <thead>\n",
       "    <tr style=\"text-align: right;\">\n",
       "      <th></th>\n",
       "      <th>Video ID</th>\n",
       "      <th>User ID</th>\n",
       "      <th>Comment</th>\n",
       "    </tr>\n",
       "  </thead>\n",
       "  <tbody>\n",
       "    <tr>\n",
       "      <th>0</th>\n",
       "      <td>48gTx8MpRmI</td>\n",
       "      <td>UCgDuFgJQ4a0TJ8HCDnW8i3w</td>\n",
       "      <td>He slapped his chest and extended his arm with...</td>\n",
       "    </tr>\n",
       "    <tr>\n",
       "      <th>1</th>\n",
       "      <td>48gTx8MpRmI</td>\n",
       "      <td>UCSkVAxUmDh8jqxK6MLeBhSA</td>\n",
       "      <td>Guess who&amp;#39;s back !WP</td>\n",
       "    </tr>\n",
       "    <tr>\n",
       "      <th>2</th>\n",
       "      <td>48gTx8MpRmI</td>\n",
       "      <td>UCleLTG0Vm5s3jNcoZOdNGCQ</td>\n",
       "      <td>During ay speech</td>\n",
       "    </tr>\n",
       "    <tr>\n",
       "      <th>3</th>\n",
       "      <td>48gTx8MpRmI</td>\n",
       "      <td>UCLV3vjTw_kSdKOQZlDSHB2A</td>\n",
       "      <td>So? The bloody left is bloody EXTREME!!! 🤬🤬🤬🤬🤬🤬</td>\n",
       "    </tr>\n",
       "    <tr>\n",
       "      <th>4</th>\n",
       "      <td>48gTx8MpRmI</td>\n",
       "      <td>UC1ozNqKFTv4lPOOdU3rtBbg</td>\n",
       "      <td>Teslas are gonna fly off those lots!! 😂</td>\n",
       "    </tr>\n",
       "  </tbody>\n",
       "</table>\n",
       "</div>"
      ],
      "text/plain": [
       "      Video ID                   User ID  \\\n",
       "0  48gTx8MpRmI  UCgDuFgJQ4a0TJ8HCDnW8i3w   \n",
       "1  48gTx8MpRmI  UCSkVAxUmDh8jqxK6MLeBhSA   \n",
       "2  48gTx8MpRmI  UCleLTG0Vm5s3jNcoZOdNGCQ   \n",
       "3  48gTx8MpRmI  UCLV3vjTw_kSdKOQZlDSHB2A   \n",
       "4  48gTx8MpRmI  UC1ozNqKFTv4lPOOdU3rtBbg   \n",
       "\n",
       "                                             Comment  \n",
       "0  He slapped his chest and extended his arm with...  \n",
       "1                           Guess who&#39;s back !WP  \n",
       "2                                   During ay speech  \n",
       "3    So? The bloody left is bloody EXTREME!!! 🤬🤬🤬🤬🤬🤬  \n",
       "4            Teslas are gonna fly off those lots!! 😂  "
      ]
     },
     "execution_count": 7,
     "metadata": {},
     "output_type": "execute_result"
    }
   ],
   "source": [
    "DW_clean.head()"
   ]
  },
  {
   "cell_type": "markdown",
   "id": "606cd380-b8d6-4ce0-8424-28d939987caf",
   "metadata": {},
   "source": [
    "<div style=\"background-color: lightblue; padding: 10px; border-radius: 5px;\">\n",
    "<p style=\"font-size: 24px;\">Cleaning Data</p>"
   ]
  },
  {
   "cell_type": "code",
   "execution_count": 9,
   "id": "cfba4df9-534b-494f-a538-8753d7d0555a",
   "metadata": {},
   "outputs": [
    {
     "data": {
      "text/plain": [
       "Video ID    0\n",
       "User ID     0\n",
       "Comment     0\n",
       "dtype: int64"
      ]
     },
     "execution_count": 9,
     "metadata": {},
     "output_type": "execute_result"
    }
   ],
   "source": [
    "DW_clean.isnull().sum()"
   ]
  },
  {
   "cell_type": "code",
   "execution_count": 10,
   "id": "9c32dc17-aebf-4b28-9b18-a900efcc32fb",
   "metadata": {},
   "outputs": [
    {
     "data": {
      "text/plain": [
       "9"
      ]
     },
     "execution_count": 10,
     "metadata": {},
     "output_type": "execute_result"
    }
   ],
   "source": [
    "DW_clean.duplicated().sum()"
   ]
  },
  {
   "cell_type": "code",
   "execution_count": 11,
   "id": "84e81c66-6acc-4ded-980b-c9971fbbbb5c",
   "metadata": {},
   "outputs": [],
   "source": [
    "DW_clean = DW_clean.drop_duplicates(subset=[\"Comment\", \"User ID\"], keep=\"first\")"
   ]
  },
  {
   "cell_type": "code",
   "execution_count": 12,
   "id": "b3289371-7a0b-4cfd-963d-5022c3d8768b",
   "metadata": {},
   "outputs": [],
   "source": [
    "#resetting index from 1\n",
    "DW_clean.index= DW_clean.index +1 "
   ]
  },
  {
   "cell_type": "code",
   "execution_count": 13,
   "id": "b417ee0f-af64-44d3-bc46-6e9ac4daacaf",
   "metadata": {},
   "outputs": [],
   "source": [
    "DW_clean['Video ID'] = DW_clean['Video ID'].replace('48gTx8MpRmI', 'DW')"
   ]
  },
  {
   "cell_type": "code",
   "execution_count": 14,
   "id": "d2aff906-9ad1-4f02-8038-a90668c1b10b",
   "metadata": {},
   "outputs": [
    {
     "data": {
      "text/html": [
       "<div>\n",
       "<style scoped>\n",
       "    .dataframe tbody tr th:only-of-type {\n",
       "        vertical-align: middle;\n",
       "    }\n",
       "\n",
       "    .dataframe tbody tr th {\n",
       "        vertical-align: top;\n",
       "    }\n",
       "\n",
       "    .dataframe thead th {\n",
       "        text-align: right;\n",
       "    }\n",
       "</style>\n",
       "<table border=\"1\" class=\"dataframe\">\n",
       "  <thead>\n",
       "    <tr style=\"text-align: right;\">\n",
       "      <th></th>\n",
       "      <th>Video ID</th>\n",
       "      <th>User ID</th>\n",
       "      <th>Comment</th>\n",
       "    </tr>\n",
       "  </thead>\n",
       "  <tbody>\n",
       "    <tr>\n",
       "      <th>373</th>\n",
       "      <td>DW</td>\n",
       "      <td>UCpirJXncKngbpiAiBRLt_Qg</td>\n",
       "      <td>Why would bro get in trouble for something I d...</td>\n",
       "    </tr>\n",
       "    <tr>\n",
       "      <th>1521</th>\n",
       "      <td>DW</td>\n",
       "      <td>UCJ5LrSu0iC7KajcssAkyWFQ</td>\n",
       "      <td>weak commentary from the correspondent.</td>\n",
       "    </tr>\n",
       "  </tbody>\n",
       "</table>\n",
       "</div>"
      ],
      "text/plain": [
       "     Video ID                   User ID  \\\n",
       "373        DW  UCpirJXncKngbpiAiBRLt_Qg   \n",
       "1521       DW  UCJ5LrSu0iC7KajcssAkyWFQ   \n",
       "\n",
       "                                                Comment  \n",
       "373   Why would bro get in trouble for something I d...  \n",
       "1521            weak commentary from the correspondent.  "
      ]
     },
     "execution_count": 14,
     "metadata": {},
     "output_type": "execute_result"
    }
   ],
   "source": [
    "DW_clean.sample(2)"
   ]
  },
  {
   "cell_type": "markdown",
   "id": "2deaf77e-9043-484d-82d5-45fe404c7619",
   "metadata": {},
   "source": [
    "<div style=\"background-color: lightblue; padding: 10px; border-radius: 5px;\">\n",
    "<p style=\"font-size: 24px;\">Saving Clean Data to CSV for Sentiment Analysis</p>"
   ]
  },
  {
   "cell_type": "code",
   "execution_count": 16,
   "id": "fdc9ca22-9d2c-4578-8d3e-2b3ed1aca238",
   "metadata": {},
   "outputs": [],
   "source": [
    "DW_clean =DW_clean.to_csv('DW.csv')"
   ]
  },
  {
   "cell_type": "code",
   "execution_count": null,
   "id": "83d2aca9-4d68-443a-b9a5-0bff4999a87c",
   "metadata": {},
   "outputs": [],
   "source": []
  }
 ],
 "metadata": {
  "kernelspec": {
   "display_name": "Python 3 (ipykernel)",
   "language": "python",
   "name": "python3"
  },
  "language_info": {
   "codemirror_mode": {
    "name": "ipython",
    "version": 3
   },
   "file_extension": ".py",
   "mimetype": "text/x-python",
   "name": "python",
   "nbconvert_exporter": "python",
   "pygments_lexer": "ipython3",
   "version": "3.12.4"
  }
 },
 "nbformat": 4,
 "nbformat_minor": 5
}
