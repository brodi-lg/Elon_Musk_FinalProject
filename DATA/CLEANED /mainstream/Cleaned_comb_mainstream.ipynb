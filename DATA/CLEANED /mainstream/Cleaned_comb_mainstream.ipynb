{
 "cells": [
  {
   "cell_type": "code",
   "execution_count": 1,
   "id": "e98e1857-d6dc-475b-935f-febe67085fd5",
   "metadata": {},
   "outputs": [],
   "source": [
    "import pandas as pd"
   ]
  },
  {
   "cell_type": "code",
   "execution_count": 2,
   "id": "1663eba1-b14e-4049-86c9-64b9c6cb8d03",
   "metadata": {},
   "outputs": [],
   "source": [
    "import warnings\n",
    "warnings.filterwarnings('ignore')"
   ]
  },
  {
   "cell_type": "code",
   "execution_count": 3,
   "id": "cec986b2-12a4-4d4f-8e5e-2ff2774afb4e",
   "metadata": {},
   "outputs": [],
   "source": [
    "cleaned_ms = pd.read_csv('combined_mainstream.csv')"
   ]
  },
  {
   "cell_type": "markdown",
   "id": "7d32cff4-10f3-4e73-a227-df31dcef5e08",
   "metadata": {},
   "source": [
    "## Data Exploration"
   ]
  },
  {
   "cell_type": "code",
   "execution_count": 37,
   "id": "9511d887-3482-48a0-9a83-927d12e3b6cb",
   "metadata": {},
   "outputs": [
    {
     "name": "stdout",
     "output_type": "stream",
     "text": [
      "<class 'pandas.core.frame.DataFrame'>\n",
      "Index: 4470 entries, 1 to 4487\n",
      "Data columns (total 3 columns):\n",
      " #   Column    Non-Null Count  Dtype \n",
      "---  ------    --------------  ----- \n",
      " 0   Video ID  4470 non-null   object\n",
      " 1   User ID   4470 non-null   object\n",
      " 2   Comment   4470 non-null   object\n",
      "dtypes: object(3)\n",
      "memory usage: 139.7+ KB\n"
     ]
    }
   ],
   "source": [
    "cleaned_ms.info()"
   ]
  },
  {
   "cell_type": "markdown",
   "id": "540cbe3e-6a55-49cd-8286-b29783f93ce0",
   "metadata": {},
   "source": [
    "## Data Cleaning"
   ]
  },
  {
   "cell_type": "code",
   "execution_count": 5,
   "id": "c541d002-81a7-428a-9d10-183da296c939",
   "metadata": {},
   "outputs": [],
   "source": [
    "#replacing video ids with channel names\n",
    "cleaned_ms['Video ID'].replace('48gTx8MpRmI', 'DW', inplace=True)\n",
    "cleaned_ms['Video ID'].replace('_J-uvMGfpTA', 'MSNBC', inplace=True)\n",
    "cleaned_ms['Video ID'].replace('smQNNo2a9xc','Guardian_News', inplace=True)"
   ]
  },
  {
   "cell_type": "code",
   "execution_count": 41,
   "id": "cda10a8f-36aa-4fd6-a4c8-46518839f21e",
   "metadata": {},
   "outputs": [
    {
     "data": {
      "text/html": [
       "<div>\n",
       "<style scoped>\n",
       "    .dataframe tbody tr th:only-of-type {\n",
       "        vertical-align: middle;\n",
       "    }\n",
       "\n",
       "    .dataframe tbody tr th {\n",
       "        vertical-align: top;\n",
       "    }\n",
       "\n",
       "    .dataframe thead th {\n",
       "        text-align: right;\n",
       "    }\n",
       "</style>\n",
       "<table border=\"1\" class=\"dataframe\">\n",
       "  <thead>\n",
       "    <tr style=\"text-align: right;\">\n",
       "      <th></th>\n",
       "      <th>Video ID</th>\n",
       "      <th>User ID</th>\n",
       "      <th>Comment</th>\n",
       "    </tr>\n",
       "  </thead>\n",
       "  <tbody>\n",
       "    <tr>\n",
       "      <th>3945</th>\n",
       "      <td>Guardian_News</td>\n",
       "      <td>UCaWVelhnoP9Cwpvwd6JIzGQ</td>\n",
       "      <td>Literal delusion in the comments hahahahaha</td>\n",
       "    </tr>\n",
       "    <tr>\n",
       "      <th>1516</th>\n",
       "      <td>DW</td>\n",
       "      <td>UCGnZ3TLyQAt72nwc_Bwb_Ww</td>\n",
       "      <td>As he told : he gives his heart to their voter...</td>\n",
       "    </tr>\n",
       "    <tr>\n",
       "      <th>2625</th>\n",
       "      <td>DW</td>\n",
       "      <td>UCblj5CsycJRywg8T0fg7HGw</td>\n",
       "      <td>It makes 0 sense that the guy who finds AfD as...</td>\n",
       "    </tr>\n",
       "    <tr>\n",
       "      <th>865</th>\n",
       "      <td>DW</td>\n",
       "      <td>UCwnEBxhmQlavOmJfx5cCUgw</td>\n",
       "      <td>It&amp;#39;s funny how the liberal media purposely...</td>\n",
       "    </tr>\n",
       "    <tr>\n",
       "      <th>1667</th>\n",
       "      <td>DW</td>\n",
       "      <td>UCg4fvD_Uq1SRqMnLbYlpeDw</td>\n",
       "      <td>We have eyes we saw it</td>\n",
       "    </tr>\n",
       "    <tr>\n",
       "      <th>2344</th>\n",
       "      <td>DW</td>\n",
       "      <td>UC1D9WXrbEL0sRxTLdbtAgKw</td>\n",
       "      <td>It’s not</td>\n",
       "    </tr>\n",
       "    <tr>\n",
       "      <th>3781</th>\n",
       "      <td>MSNBC</td>\n",
       "      <td>UCXrEcjewtyqzTqDhhIoOy3g</td>\n",
       "      <td>1938?</td>\n",
       "    </tr>\n",
       "  </tbody>\n",
       "</table>\n",
       "</div>"
      ],
      "text/plain": [
       "           Video ID                   User ID  \\\n",
       "3945  Guardian_News  UCaWVelhnoP9Cwpvwd6JIzGQ   \n",
       "1516             DW  UCGnZ3TLyQAt72nwc_Bwb_Ww   \n",
       "2625             DW  UCblj5CsycJRywg8T0fg7HGw   \n",
       "865              DW  UCwnEBxhmQlavOmJfx5cCUgw   \n",
       "1667             DW  UCg4fvD_Uq1SRqMnLbYlpeDw   \n",
       "2344             DW  UC1D9WXrbEL0sRxTLdbtAgKw   \n",
       "3781          MSNBC  UCXrEcjewtyqzTqDhhIoOy3g   \n",
       "\n",
       "                                                Comment  \n",
       "3945        Literal delusion in the comments hahahahaha  \n",
       "1516  As he told : he gives his heart to their voter...  \n",
       "2625  It makes 0 sense that the guy who finds AfD as...  \n",
       "865   It&#39;s funny how the liberal media purposely...  \n",
       "1667                             We have eyes we saw it  \n",
       "2344                                           It’s not  \n",
       "3781                                              1938?  "
      ]
     },
     "execution_count": 41,
     "metadata": {},
     "output_type": "execute_result"
    }
   ],
   "source": [
    "#checking for new value names in video ID \n",
    "\n",
    "cleaned_ms.sample(7)"
   ]
  },
  {
   "cell_type": "code",
   "execution_count": 17,
   "id": "72b4a779-318f-4210-9cdc-0e3f14e23e1d",
   "metadata": {},
   "outputs": [
    {
     "data": {
      "text/plain": [
       "Video ID    0\n",
       "User ID     0\n",
       "Comment     0\n",
       "dtype: int64"
      ]
     },
     "execution_count": 17,
     "metadata": {},
     "output_type": "execute_result"
    }
   ],
   "source": [
    "cleaned_ms.isnull().sum()"
   ]
  },
  {
   "cell_type": "code",
   "execution_count": 19,
   "id": "528d954d-2018-4b69-8299-823dee9e8099",
   "metadata": {},
   "outputs": [
    {
     "data": {
      "text/plain": [
       "12"
      ]
     },
     "execution_count": 19,
     "metadata": {},
     "output_type": "execute_result"
    }
   ],
   "source": [
    "cleaned_ms.duplicated().sum()"
   ]
  },
  {
   "cell_type": "code",
   "execution_count": 21,
   "id": "2881d084-f31a-4f57-83f3-7df8282a92ce",
   "metadata": {},
   "outputs": [],
   "source": [
    "#dropping duplicates while retaining the first instance\n",
    "cleaned_ms = cleaned_ms.drop_duplicates(subset=[\"Comment\", \"User ID\"], keep=\"first\")"
   ]
  },
  {
   "cell_type": "code",
   "execution_count": 23,
   "id": "945275de-4bd0-4a01-b821-b1d4f647db44",
   "metadata": {},
   "outputs": [
    {
     "data": {
      "text/plain": [
       "0"
      ]
     },
     "execution_count": 23,
     "metadata": {},
     "output_type": "execute_result"
    }
   ],
   "source": [
    "cleaned_ms.duplicated().sum()"
   ]
  },
  {
   "cell_type": "code",
   "execution_count": 25,
   "id": "525ebb70-f979-4805-8079-b5d5cb94873d",
   "metadata": {},
   "outputs": [
    {
     "data": {
      "text/plain": [
       "(4470, 3)"
      ]
     },
     "execution_count": 25,
     "metadata": {},
     "output_type": "execute_result"
    }
   ],
   "source": [
    "#checking again \n",
    "cleaned_ms.shape"
   ]
  },
  {
   "cell_type": "code",
   "execution_count": 29,
   "id": "1a928758-e2d5-4bb7-bd19-14c79d834383",
   "metadata": {},
   "outputs": [],
   "source": [
    "cleaned_ms.columns = cleaned_ms.columns.str.strip() "
   ]
  },
  {
   "cell_type": "code",
   "execution_count": 46,
   "id": "51bdffa0-28f8-4226-aac8-c3c1cef702c7",
   "metadata": {},
   "outputs": [],
   "source": [
    "#resetting index from 1\n",
    "cleaned_ms.index = cleaned_ms.index + 1"
   ]
  },
  {
   "cell_type": "code",
   "execution_count": 35,
   "id": "aae31508-4b96-4c7c-a3b7-15ee12ea120b",
   "metadata": {},
   "outputs": [
    {
     "data": {
      "text/html": [
       "<div>\n",
       "<style scoped>\n",
       "    .dataframe tbody tr th:only-of-type {\n",
       "        vertical-align: middle;\n",
       "    }\n",
       "\n",
       "    .dataframe tbody tr th {\n",
       "        vertical-align: top;\n",
       "    }\n",
       "\n",
       "    .dataframe thead th {\n",
       "        text-align: right;\n",
       "    }\n",
       "</style>\n",
       "<table border=\"1\" class=\"dataframe\">\n",
       "  <thead>\n",
       "    <tr style=\"text-align: right;\">\n",
       "      <th></th>\n",
       "      <th>Video ID</th>\n",
       "      <th>User ID</th>\n",
       "      <th>Comment</th>\n",
       "    </tr>\n",
       "  </thead>\n",
       "  <tbody>\n",
       "    <tr>\n",
       "      <th>1</th>\n",
       "      <td>DW</td>\n",
       "      <td>UCgDuFgJQ4a0TJ8HCDnW8i3w</td>\n",
       "      <td>He slapped his chest and extended his arm with...</td>\n",
       "    </tr>\n",
       "    <tr>\n",
       "      <th>2</th>\n",
       "      <td>DW</td>\n",
       "      <td>UCSkVAxUmDh8jqxK6MLeBhSA</td>\n",
       "      <td>Guess who&amp;#39;s back !WP</td>\n",
       "    </tr>\n",
       "    <tr>\n",
       "      <th>3</th>\n",
       "      <td>DW</td>\n",
       "      <td>UCleLTG0Vm5s3jNcoZOdNGCQ</td>\n",
       "      <td>During ay speech</td>\n",
       "    </tr>\n",
       "    <tr>\n",
       "      <th>4</th>\n",
       "      <td>DW</td>\n",
       "      <td>UCLV3vjTw_kSdKOQZlDSHB2A</td>\n",
       "      <td>So? The bloody left is bloody EXTREME!!! 🤬🤬🤬🤬🤬🤬</td>\n",
       "    </tr>\n",
       "    <tr>\n",
       "      <th>5</th>\n",
       "      <td>DW</td>\n",
       "      <td>UC1ozNqKFTv4lPOOdU3rtBbg</td>\n",
       "      <td>Teslas are gonna fly off those lots!! 😂</td>\n",
       "    </tr>\n",
       "  </tbody>\n",
       "</table>\n",
       "</div>"
      ],
      "text/plain": [
       "  Video ID                   User ID  \\\n",
       "1       DW  UCgDuFgJQ4a0TJ8HCDnW8i3w   \n",
       "2       DW  UCSkVAxUmDh8jqxK6MLeBhSA   \n",
       "3       DW  UCleLTG0Vm5s3jNcoZOdNGCQ   \n",
       "4       DW  UCLV3vjTw_kSdKOQZlDSHB2A   \n",
       "5       DW  UC1ozNqKFTv4lPOOdU3rtBbg   \n",
       "\n",
       "                                             Comment  \n",
       "1  He slapped his chest and extended his arm with...  \n",
       "2                           Guess who&#39;s back !WP  \n",
       "3                                   During ay speech  \n",
       "4    So? The bloody left is bloody EXTREME!!! 🤬🤬🤬🤬🤬🤬  \n",
       "5            Teslas are gonna fly off those lots!! 😂  "
      ]
     },
     "execution_count": 35,
     "metadata": {},
     "output_type": "execute_result"
    }
   ],
   "source": [
    "cleaned_ms.head()"
   ]
  },
  {
   "cell_type": "code",
   "execution_count": null,
   "id": "d15e8df8-197c-4f78-a73e-3d6c2fe6a521",
   "metadata": {},
   "outputs": [],
   "source": [
    "clean.to_csv(\"clean_ms_data.csv\", index=False)\n"
   ]
  }
 ],
 "metadata": {
  "kernelspec": {
   "display_name": "Python 3 (ipykernel)",
   "language": "python",
   "name": "python3"
  },
  "language_info": {
   "codemirror_mode": {
    "name": "ipython",
    "version": 3
   },
   "file_extension": ".py",
   "mimetype": "text/x-python",
   "name": "python",
   "nbconvert_exporter": "python",
   "pygments_lexer": "ipython3",
   "version": "3.12.4"
  }
 },
 "nbformat": 4,
 "nbformat_minor": 5
}
